{
 "cells": [
  {
   "cell_type": "code",
   "execution_count": null,
   "metadata": {},
   "outputs": [],
   "source": [
    "\"\"\"\n",
    "Multi Particle Model #1\n",
    "Asuki Yanagihara @ BSSG2019\n",
    "書き下し版\n",
    "\"\"\""
   ]
  },
  {
   "cell_type": "markdown",
   "metadata": {},
   "source": [
    "<img src=\"Model_scheme_1.png\">"
   ]
  },
  {
   "cell_type": "markdown",
   "metadata": {},
   "source": [
    "Design and Input"
   ]
  },
  {
   "cell_type": "code",
   "execution_count": 35,
   "metadata": {},
   "outputs": [],
   "source": [
    "#Module input\n",
    "import numpy as np"
   ]
  },
  {
   "cell_type": "code",
   "execution_count": null,
   "metadata": {},
   "outputs": [],
   "source": [
    "#OCV input *GUI\n"
   ]
  },
  {
   "cell_type": "code",
   "execution_count": 54,
   "metadata": {},
   "outputs": [],
   "source": [
    "#Physical Parameter　input　*GUI\n",
    "sigma_eff_neg = 100 #electronic conductivity of Electrode Solid Phase[S/m]\n",
    "a_neg = 1 #Specific Surface Area of Electrode[m^2/m^3]\n",
    "F = 96500 #Faraday constant [C/mol =sec A / mol]\n",
    "t_p = 0.4 #transport number"
   ]
  },
  {
   "cell_type": "code",
   "execution_count": 37,
   "metadata": {},
   "outputs": [],
   "source": [
    "#Design Parameter input *GUI\n",
    "Area = 700 #対抗Area [cm^2]\n",
    "L_neg = 100/1000/1000 #Anode thickness　[m]"
   ]
  },
  {
   "cell_type": "code",
   "execution_count": 75,
   "metadata": {},
   "outputs": [],
   "source": [
    "#Simulation Condition *GUI\n",
    "Neg_grid_num = 50 #負極のGrid数\n",
    "x_neg_array_1 = np.linspace(0, L_neg, Neg_grid_num) #xの配列\n",
    "dx_neg = L_neg/Neg_grid_num #負極の1Gridの長さ[m]\n",
    "x_neg_array_2 = np.linspace((0+dx_neg)/2, (L_neg-dx_neg/2), (Neg_grid_num-1) )#xの配列 中間点\n",
    "dt = 10 #時間離散 [sec] "
   ]
  },
  {
   "cell_type": "code",
   "execution_count": 76,
   "metadata": {},
   "outputs": [],
   "source": [
    "#Charge discharge Condition *GUI\n",
    "Current = 1 #[A]\n",
    "I = Current/Area\n",
    "Time = 60*2*0.8 #放電時間[sec] 60min+0.5C充電+DOD80%"
   ]
  },
  {
   "cell_type": "markdown",
   "metadata": {},
   "source": [
    "Simulator"
   ]
  },
  {
   "cell_type": "code",
   "execution_count": null,
   "metadata": {},
   "outputs": [],
   "source": [
    "#Setting 14 Variables \n",
    "\"\"\"\n",
    "J_Li_neg = #(x, t) #0<x<L_neg\n",
    "J_Li_pos #(x, t) # L_pos<x<L\n",
    "U_neg #(x, t) # 0<x<L_neg\n",
    "U_pos #(x, t) # L_pos<x<L\n",
    "phi_e_neg #(x, t) #0<x<L_neg\n",
    "phi_e_sep #(x, t) #L_neg<x<L_pos\n",
    "phi_e_pos #(x, t) #L_pos<x<L\n",
    "Ce_neg #(x, t) #0<x<L_neg\n",
    "Ce_sep #(x, t) #L_neg<x<L_pos\n",
    "Ce_pos #(x, t) #L_pos<x<L\n",
    "phi_s_neg #(x, t) #0<x<L_neg\n",
    "phi_s_pos #(x, t) #L_pos<x<L\n",
    "Cs_neg #(x, r, t) #0<r<R_neg, 0<x<L_neg\n",
    "Cs_pos #(x, r, t) #0<r<R_pos, L_pos<x<L\n",
    "\"\"\""
   ]
  },
  {
   "cell_type": "markdown",
   "metadata": {},
   "source": [
    "\\1. Calclulate Phi_s and J_Li  \n",
    "Solid_phase_Charge_Conservation\n",
    "\\begin{equation*}\n",
    "\\sigma_{eff}\\frac{\\partial^2\\phi_s(x, t)}{\\partial x^2} = a_{neg}FJ_{Li}(x, t)\\\\\n",
    "\\sigma_{eff}\\frac{\\partial^2\\phi_s(x, t)}{\\partial x^2} = \\sigma_{eff} \\left(\\frac{\\phi_s(x+\\Delta x)-2\\phi_s(x)+\\phi_s(x-\\Delta x)}{\\Delta x^2}\\right)=a_{neg}FJ_{Li}(x, t)\n",
    "\\end{equation*}\n",
    "Boundry Condition\n",
    "\\begin{equation*}\n",
    "- \\sigma_{eff}\\frac{\\partial \\phi_s}{\\partial x} \\vert _{x=0} = I \\\\\n",
    "- \\sigma_{eff}\\frac{\\partial \\phi_s}{\\partial x} \\vert _{x=L_{neg}} = 0 \\\\\n",
    "\\end{equation*}"
   ]
  },
  {
   "cell_type": "markdown",
   "metadata": {},
   "source": [
    "\\1. Calclulate Phi_s and J_Li  (anodeをLEFT side)\n",
    "Solid_phase_Charge_Conservation\n",
    "\\begin{equation*}\n",
    "\\sigma_{eff}\\frac{\\partial^2\\phi_s(x, t)}{\\partial x^2} = a_{neg}FJ_{Li}(x, t)\\\\\n",
    "\\sigma_{eff}\\frac{\\partial^2\\phi_s(x, t)}{\\partial x^2} = \\sigma_{eff} \\left(\\frac{\\phi_s(x+\\Delta x)-2\\phi_s(x)+\\phi_s(x-\\Delta x)}{\\Delta x^2}\\right)=a_{neg}FJ_{Li}(x, t)\n",
    "\\end{equation*}\n",
    "Boundry Condition\n",
    "\\begin{equation*}\n",
    "- \\sigma_{eff}\\frac{\\partial \\phi_s}{\\partial x} \\vert _{x=0} = I \\\\\n",
    "- \\sigma_{eff}\\frac{\\partial \\phi_s}{\\partial x} \\vert _{x=L_{neg}} = 0 \\\\\n",
    "\\end{equation*}"
   ]
  },
  {
   "cell_type": "code",
   "execution_count": null,
   "metadata": {},
   "outputs": [],
   "source": [
    "###TODO###\n",
    "#正極側のSolid phase potentialもやる。"
   ]
  },
  {
   "cell_type": "code",
   "execution_count": 77,
   "metadata": {},
   "outputs": [],
   "source": [
    "#initial value\n",
    "#Tentative Variables \n",
    "phi_s_neg_value = np.zeros(Neg_grid_num-1) #[V]\n",
    "d_phi_s_neg_dx_value = np.zeros(Neg_grid_num ) #[A/cm^2]\n",
    "J_Li_neg_value = np.full(Neg_grid_num-1, I*t_p) #[mol m^-2 sec-1]\n",
    "#二次元配列化\n",
    "phi_s_neg=np.array([x_neg_array_2, phi_s_neg_value]) #二次元配列化\n",
    "d_phi_s_neg_dx=np.array([x_neg_array_1, phi_s_neg_value]) #二次元配列化\n",
    "J_Li_neg=np.array([x_neg_array_2, phi_s_neg_value]) #二次元配列化"
   ]
  },
  {
   "cell_type": "code",
   "execution_count": null,
   "metadata": {},
   "outputs": [],
   "source": [
    "#phi_s_negの計算\n",
    "\n"
   ]
  },
  {
   "cell_type": "code",
   "execution_count": null,
   "metadata": {},
   "outputs": [],
   "source": [
    "def solid_charge(t):\n",
    "     = J_Li"
   ]
  },
  {
   "cell_type": "code",
   "execution_count": 53,
   "metadata": {},
   "outputs": [
    {
     "data": {
      "text/plain": [
       "array([1.4803849e-08, 0.0000000e+00, 0.0000000e+00, 0.0000000e+00,\n",
       "       0.0000000e+00, 0.0000000e+00, 0.0000000e+00, 0.0000000e+00,\n",
       "       0.0000000e+00, 0.0000000e+00, 0.0000000e+00, 0.0000000e+00,\n",
       "       0.0000000e+00, 0.0000000e+00, 0.0000000e+00, 0.0000000e+00,\n",
       "       0.0000000e+00, 0.0000000e+00, 0.0000000e+00, 0.0000000e+00,\n",
       "       0.0000000e+00, 0.0000000e+00, 0.0000000e+00, 0.0000000e+00,\n",
       "       0.0000000e+00, 0.0000000e+00, 0.0000000e+00, 0.0000000e+00,\n",
       "       0.0000000e+00, 0.0000000e+00, 0.0000000e+00, 0.0000000e+00,\n",
       "       0.0000000e+00, 0.0000000e+00, 0.0000000e+00, 0.0000000e+00,\n",
       "       0.0000000e+00, 0.0000000e+00, 0.0000000e+00, 0.0000000e+00,\n",
       "       0.0000000e+00, 0.0000000e+00, 0.0000000e+00, 0.0000000e+00,\n",
       "       0.0000000e+00, 0.0000000e+00, 0.0000000e+00, 0.0000000e+00])"
      ]
     },
     "execution_count": 53,
     "metadata": {},
     "output_type": "execute_result"
    }
   ],
   "source": [
    "#関数部\n",
    "def solid_charge(phi_s_neg):\n",
    "    J_Li_neg = sigma_eff_neg*((d_phi_s_neg_dx[2:] - d_phi_s_neg_dx[0:-2])/ dx_neg) / a_neg / F \n",
    "    return J_Li_neg\n",
    "\n",
    "#境界条件\n",
    "d_phi_s_neg_dx[0]= -I / sigma_eff_neg * dx_neg\n",
    "d_phi_s_neg_dx[:0]=0\n",
    "\n",
    "#実行 J_Li_neg(x, t)の算出\n",
    "solid_charge(phi_s_neg)"
   ]
  },
  {
   "cell_type": "code",
   "execution_count": 49,
   "metadata": {},
   "outputs": [
    {
     "ename": "ValueError",
     "evalue": "could not broadcast input array from shape (49) into shape (0)",
     "output_type": "error",
     "traceback": [
      "\u001b[1;31m---------------------------------------------------------------------------\u001b[0m",
      "\u001b[1;31mValueError\u001b[0m                                Traceback (most recent call last)",
      "\u001b[1;32m<ipython-input-49-546ed9677308>\u001b[0m in \u001b[0;36m<module>\u001b[1;34m()\u001b[0m\n\u001b[0;32m      6\u001b[0m \u001b[1;31m#境界条件\u001b[0m\u001b[1;33m\u001b[0m\u001b[1;33m\u001b[0m\u001b[0m\n\u001b[0;32m      7\u001b[0m \u001b[0mphi_s_neg\u001b[0m\u001b[1;33m[\u001b[0m\u001b[1;36m1\u001b[0m\u001b[1;33m]\u001b[0m\u001b[1;33m=\u001b[0m \u001b[0mphi_s_neg\u001b[0m\u001b[1;33m[\u001b[0m\u001b[1;36m0\u001b[0m\u001b[1;33m]\u001b[0m\u001b[1;33m*\u001b[0m\u001b[1;33m(\u001b[0m \u001b[1;33m-\u001b[0m\u001b[0mI\u001b[0m \u001b[1;33m/\u001b[0m \u001b[0msigma_eff_neg\u001b[0m \u001b[1;33m*\u001b[0m \u001b[0mdx_neg\u001b[0m\u001b[1;33m)\u001b[0m\u001b[1;33m\u001b[0m\u001b[0m\n\u001b[1;32m----> 8\u001b[1;33m \u001b[0mphi_s_neg\u001b[0m\u001b[1;33m[\u001b[0m\u001b[1;33m:\u001b[0m\u001b[1;36m0\u001b[0m\u001b[1;33m]\u001b[0m\u001b[1;33m=\u001b[0m\u001b[0mphi_s_neg\u001b[0m\u001b[1;33m[\u001b[0m\u001b[1;33m:\u001b[0m\u001b[1;33m-\u001b[0m\u001b[1;36m1\u001b[0m\u001b[1;33m]\u001b[0m\u001b[1;33m\u001b[0m\u001b[0m\n\u001b[0m\u001b[0;32m      9\u001b[0m \u001b[1;33m\u001b[0m\u001b[0m\n\u001b[0;32m     10\u001b[0m \u001b[1;31m#実行 J_Li_neg(x, t)の算出\u001b[0m\u001b[1;33m\u001b[0m\u001b[1;33m\u001b[0m\u001b[0m\n",
      "\u001b[1;31mValueError\u001b[0m: could not broadcast input array from shape (49) into shape (0)"
     ]
    }
   ],
   "source": [
    "#関数部\n",
    "def solid_charge(phi_s_neg):\n",
    "    J_Li_neg = sigma_eff_neg*((phi_s_neg[2:] - 2* phi_s_neg[1:-1] + phi_s_neg[0:-2])/ dx_neg**2) / a_neg / F \n",
    "    return J_Li_neg\n",
    "\n",
    "#境界条件\n",
    "phi_s_neg[1]= phi_s_neg[0]*( -I / sigma_eff_neg * dx_neg)\n",
    "phi_s_neg[:0]=phi_s_neg[:-1]\n",
    "\n",
    "#実行 J_Li_neg(x, t)の算出\n",
    "solid_charge(phi_s_neg)"
   ]
  },
  {
   "cell_type": "markdown",
   "metadata": {},
   "source": [
    "\\2. Calculate Ce_neg and phi_e_neg"
   ]
  },
  {
   "cell_type": "markdown",
   "metadata": {},
   "source": [
    "Conservation of Species in Electrolyte Phase\n",
    "\\begin{equation*}\n",
    "\\varepsilon_e \\frac{\\partial}{\\partial t}C_e(x, t) = D_e^{eff}\\left(\\frac{\\partial^2C_e(x, t)}{\\partial x^2}\\right) + a_{neg}(1-t_+)J_{Li}(x,t)\n",
    "\\end{equation*}\n",
    "↓まだ\n",
    "\\begin{equation*}\n",
    "\\frac{\\partial}{\\partial t}\\ C_e(x, t)　= \\frac{D_e^{eff}}{\\varepsilon_e} \\left(\\frac{C_e(x+\\Delta x ) - 2C_e(x) + C_e(x - \\Delta x)}{\\Delta x^2}   \\right)\n",
    "+ a_{neg}(1-t_+)J_{Li}(x,t)\n",
    "\\end{equation*}"
   ]
  },
  {
   "cell_type": "markdown",
   "metadata": {},
   "source": [
    "Electrolyte Charge Consevaretion\n",
    "\\begin{equation*}\n",
    "-\\sigma_{eff}\\frac{\\partial \\phi_s(x, t)}{\\partial x} - \\kappa_{eff}\\frac{\\partial \\phi_e(x, t)}{\\partial x} \n",
    "+ \\frac{2\\kappa_{eff}RT}{F}(0.5-t_+)\\frac{\\partial lnC_e(x, t)}{\\partial x} = I\n",
    "\\end{equation*}"
   ]
  },
  {
   "cell_type": "markdown",
   "metadata": {},
   "source": [
    "\\3. Calculate Cs"
   ]
  },
  {
   "cell_type": "markdown",
   "metadata": {},
   "source": [
    "Solid Phase Diffusion\n",
    "\\begin{equation*}\n",
    "  \\frac{\\partial C_s(r, t)}{\\partial t} = D_s\\left(\\frac{2}{r}\\frac{\\partial C_s(r, t)}{\\partial r}+\\frac{\\partial^2 C_s(r, t)}{\\partial r^2}\\right)\n",
    "\\end{equation*}"
   ]
  },
  {
   "cell_type": "markdown",
   "metadata": {},
   "source": [
    "Boundry Condition\n",
    "\\begin{equation*}\n",
    "\\frac{\\partial C_s}{\\partial r} \\vert _{r=0} = 0 \\\\\n",
    "- D_s\\frac{\\partial C_s}{\\partial r} \\vert _{r=R(surface)} = J_{Li}(x, t) \\\\\n",
    "\\end{equation*}"
   ]
  },
  {
   "cell_type": "code",
   "execution_count": null,
   "metadata": {},
   "outputs": [],
   "source": []
  }
 ],
 "metadata": {
  "kernelspec": {
   "display_name": "Python 3",
   "language": "python",
   "name": "python3"
  },
  "language_info": {
   "codemirror_mode": {
    "name": "ipython",
    "version": 3
   },
   "file_extension": ".py",
   "mimetype": "text/x-python",
   "name": "python",
   "nbconvert_exporter": "python",
   "pygments_lexer": "ipython3",
   "version": "3.6.5"
  }
 },
 "nbformat": 4,
 "nbformat_minor": 2
}
