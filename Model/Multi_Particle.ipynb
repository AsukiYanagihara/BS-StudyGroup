{
 "cells": [
  {
   "cell_type": "code",
   "execution_count": null,
   "metadata": {},
   "outputs": [],
   "source": [
    "\"\"\"\n",
    "Multi Particle Model #1\n",
    "Asuki Yanagihara @ BSSG2019\n",
    "書き下し版\n",
    "\"\"\""
   ]
  },
  {
   "cell_type": "markdown",
   "metadata": {},
   "source": [
    "<img src=\"Model_scheme_1.png\">"
   ]
  },
  {
   "cell_type": "markdown",
   "metadata": {},
   "source": [
    "Design and Input"
   ]
  },
  {
   "cell_type": "code",
   "execution_count": 1,
   "metadata": {},
   "outputs": [],
   "source": [
    "#Module input\n",
    "import numpy as np\n",
    "import tkinter\n",
    "import tkinter.filedialog as tkFileDialog\n",
    "import os\n",
    "import pandas as pd\n",
    "from scipy import optimize"
   ]
  },
  {
   "cell_type": "markdown",
   "metadata": {},
   "source": [
    "OCV curve and Cell Stochiometry"
   ]
  },
  {
   "cell_type": "code",
   "execution_count": 2,
   "metadata": {},
   "outputs": [],
   "source": [
    "#OCV input *GUIをつけたい\n",
    "#Cathode\n",
    "\n",
    "root = tkinter.Tk()\n",
    "# topmost指定(最前面)\n",
    "root.attributes('-topmost', True)\n",
    "root.withdraw()\n",
    "root.lift()\n",
    "root.focus_force()\n",
    "\n",
    "#iDir = r'C:/' #任意の場所から選択させたい場合↓を　initialdir=iDir にする\n",
    "# parentを指定\n",
    "filename_c_ocv = tkFileDialog.askopenfilename(parent=root, initialdir=os.getcwd()) #initialdir=os.getcwd()カレントからファイル選択　\n",
    "\n",
    "ocv_raw_c = pd.read_csv(filename_c_ocv, sep='\\t')\n",
    " \n",
    "def func_c1(x, a, b, c, d, e, f, g, h, i, j, k, l):\n",
    "    return (a + b*x**2 + c*x**4 + d*x**6 + e*x**8 + f*x**10)/(g + h*x**2 + i*x**4 + j*x**6 + k*x**8 + l*x**10)\n",
    " \n",
    "fitpara_c=optimize.curve_fit(func_c1, ocv_raw_c['x'], ocv_raw_c['Potential(V)'])\n",
    "\n",
    "a_c=fitpara_c[0][0]\n",
    "b_c=fitpara_c[0][1]\n",
    "c_c=fitpara_c[0][2]\n",
    "d_c=fitpara_c[0][3]\n",
    "e_c=fitpara_c[0][4]\n",
    "f_c=fitpara_c[0][5]\n",
    "g_c=fitpara_c[0][6]\n",
    "h_c=fitpara_c[0][7]\n",
    "i_c=fitpara_c[0][8]\n",
    "j_c=fitpara_c[0][9]\n",
    "k_c=fitpara_c[0][10]\n",
    "l_c=fitpara_c[0][11]\n",
    "\n",
    "def ocv_c(x):\n",
    "    return (a_c + b_c*x**2 + c_c*x**4 + d_c*x**6 + e_c*x**8 + f_c*x**10)/(g_c + h_c*x**2 + i_c*x**4 + j_c*x**6 + k_c*x**8 + l_c*x**10)\n",
    "\n",
    "#Cathode OCV equation\n",
    "#x = ocv_raw_c['x']\n",
    "#ocv_raw_c['est_V']=(a + b*x**2 + c*x**4 + d*x**6 + e*x**8 + f*x**10)/(g + h*x**2 + i*x**4 + j*x**6 + k*x**8 + l*x**10)\n",
    "#↑＋_c"
   ]
  },
  {
   "cell_type": "code",
   "execution_count": 3,
   "metadata": {},
   "outputs": [],
   "source": [
    "#OCV input *GUI\n",
    "#Anode\n",
    "\n",
    "root = tkinter.Tk()\n",
    "# topmost指定(最前面)\n",
    "root.attributes('-topmost', True)\n",
    "root.withdraw()\n",
    "root.lift()\n",
    "root.focus_force()\n",
    "\n",
    "#iDir = r'C:/' #任意の場所から選択させたい場合↓を　initialdir=iDir にする\n",
    "# parentを指定\n",
    "filename_a_ocv = tkFileDialog.askopenfilename(parent=root, initialdir=os.getcwd()) #initialdir=os.getcwd()カレントからファイル選択　\n",
    "\n",
    "ocv_raw_a = pd.read_csv(filename_a_ocv, sep='\\t')\n",
    "\n",
    "#fit \n",
    "def func_a1(x, a, b, c, d, e, f, g, h, i, j, k, l):\n",
    "    return a + b*x**1 + c*x**2 + d*x**3 + e*x**4 + f*x**5+ g*x**6 + h*x**7 + i*x**8 + j*x**9 + k*x**10 + l*x**11\n",
    " \n",
    "fitpara_a=optimize.curve_fit(func_a1, ocv_raw_a['x'], ocv_raw_a['Potential(V)'])\n",
    "\n",
    "a_a=fitpara_a[0][0]\n",
    "b_a=fitpara_a[0][1]\n",
    "c_a=fitpara_a[0][2]\n",
    "d_a=fitpara_a[0][3]\n",
    "e_a=fitpara_a[0][4]\n",
    "f_a=fitpara_a[0][5]\n",
    "g_a=fitpara_a[0][6]\n",
    "h_a=fitpara_a[0][7]\n",
    "i_a=fitpara_a[0][8]\n",
    "j_a=fitpara_a[0][9]\n",
    "k_a=fitpara_a[0][10]\n",
    "l_a=fitpara_a[0][11]\n",
    "\n",
    "#Anode OCV equation \n",
    "#x = ocv_raw_a['x']\n",
    "def ocv_a(x):\n",
    "    return a_a + b_a*x**1 + c_a*x**2 + d_a*x**3 + e_a*x**4 + f_a*x**5+ g_a*x**6 + h_a*x**7 + i_a*x**8 + j_a*x**9 + k_a*x**10 + l_a*x**11\n",
    "#ocv_raw_a['est_V']=a + b*x**1 + c*x**2 + d*x**3 + e*x**4 + f*x**5+ g*x**6 + h*x**7 + i*x**8 + j*x**9 + k*x**10 + l*x**11\n",
    "#↑＋_a"
   ]
  },
  {
   "cell_type": "code",
   "execution_count": 4,
   "metadata": {},
   "outputs": [],
   "source": [
    "#Design Parameter input *GUI\n",
    "Area = 700 #対抗Area [cm^2]\n",
    "Loading_c = 18 #[mg/cm^2] 片面\n",
    "Material_ratio_c = 0.95 #[ratio]\n",
    "charge_c= Area * Loading_c * Material_ratio_c /1000 #[g] \n",
    "spec_dcap_c = 250 #Li = 0-1 [mAh/g] \n",
    "first_eff_c = 0.98 # [ratio]\n",
    "theoretical_cap_c= spec_dcap_c * charge_c /1000 #[Ah]\n",
    "L_pos = 100/1000/1000 #Cathode thickness　[m] #Densityから計算したいとこ\n",
    "\n",
    "Loading_a = 9 #[mg/cm^2]　片面\n",
    "Material_ratio_a = 0.92 #[ratio]\n",
    "charge_a= Area * Loading_a * Material_ratio_a /1000 #[g] \n",
    "spec_dcap_a = 360 #Li = 0-1 [mAh/g] \n",
    "first_eff_loss = 20 #[mAh/g]\n",
    "theoretical_cap_a= spec_dcap_a * charge_a /1000 #[Ah]\n",
    "L_neg = 100/1000/1000 #Anode thickness [m] #Densityから計算したいとこ\n",
    "\n",
    "L_sep = 20/1000/1000 #Separator Thickness [m] #Porosity なども"
   ]
  },
  {
   "cell_type": "code",
   "execution_count": 5,
   "metadata": {},
   "outputs": [],
   "source": [
    "#Cell stoichiometry\n",
    "Full_charge_cell_voltage=4.48 #[V]\n",
    "Full_charge_potential_c=4.5 #[V]\n",
    "Full_charge_potential_a=Full_charge_potential_c - Full_charge_cell_voltage#[V]\n",
    "\n",
    "#Cathode Li amount at SOC100\n",
    "def full_c(x):\n",
    "    return Full_charge_potential_c - ocv_c(x)\n",
    "full_x_c = optimize.fsolve(full_c, 0.5) # 0.5→Fitting 初期値\n",
    "\n",
    "#Anode Li amount at SOC100\n",
    "def full_a(x):\n",
    "    return Full_charge_potential_a - ocv_a(x)\n",
    "full_x_a = optimize.fsolve(full_a, 0.5) \n"
   ]
  },
  {
   "cell_type": "code",
   "execution_count": 6,
   "metadata": {},
   "outputs": [
    {
     "data": {
      "text/html": [
       "<div>\n",
       "<style scoped>\n",
       "    .dataframe tbody tr th:only-of-type {\n",
       "        vertical-align: middle;\n",
       "    }\n",
       "\n",
       "    .dataframe tbody tr th {\n",
       "        vertical-align: top;\n",
       "    }\n",
       "\n",
       "    .dataframe thead th {\n",
       "        text-align: right;\n",
       "    }\n",
       "</style>\n",
       "<table border=\"1\" class=\"dataframe\">\n",
       "  <thead>\n",
       "    <tr style=\"text-align: right;\">\n",
       "      <th></th>\n",
       "      <th>Capacity[Ah]</th>\n",
       "      <th>x_c</th>\n",
       "      <th>x_a</th>\n",
       "      <th>cathode potential[V]</th>\n",
       "      <th>anode potential[V]</th>\n",
       "      <th>cell potential[V]</th>\n",
       "    </tr>\n",
       "  </thead>\n",
       "  <tbody>\n",
       "    <tr>\n",
       "      <th>0</th>\n",
       "      <td>0.000000</td>\n",
       "      <td>0.725124</td>\n",
       "      <td>0.833861</td>\n",
       "      <td>4.500000</td>\n",
       "      <td>0.020000</td>\n",
       "      <td>4.480000</td>\n",
       "    </tr>\n",
       "    <tr>\n",
       "      <th>1</th>\n",
       "      <td>0.004181</td>\n",
       "      <td>0.723671</td>\n",
       "      <td>0.832190</td>\n",
       "      <td>4.498521</td>\n",
       "      <td>0.026991</td>\n",
       "      <td>4.471530</td>\n",
       "    </tr>\n",
       "    <tr>\n",
       "      <th>2</th>\n",
       "      <td>0.008363</td>\n",
       "      <td>0.722218</td>\n",
       "      <td>0.830519</td>\n",
       "      <td>4.497022</td>\n",
       "      <td>0.033275</td>\n",
       "      <td>4.463747</td>\n",
       "    </tr>\n",
       "    <tr>\n",
       "      <th>3</th>\n",
       "      <td>0.012544</td>\n",
       "      <td>0.720765</td>\n",
       "      <td>0.828848</td>\n",
       "      <td>4.495504</td>\n",
       "      <td>0.038909</td>\n",
       "      <td>4.456595</td>\n",
       "    </tr>\n",
       "    <tr>\n",
       "      <th>4</th>\n",
       "      <td>0.016726</td>\n",
       "      <td>0.719312</td>\n",
       "      <td>0.827177</td>\n",
       "      <td>4.493966</td>\n",
       "      <td>0.043946</td>\n",
       "      <td>4.450020</td>\n",
       "    </tr>\n",
       "  </tbody>\n",
       "</table>\n",
       "</div>"
      ],
      "text/plain": [
       "   Capacity[Ah]       x_c       x_a  cathode potential[V]  anode potential[V]  \\\n",
       "0      0.000000  0.725124  0.833861              4.500000            0.020000   \n",
       "1      0.004181  0.723671  0.832190              4.498521            0.026991   \n",
       "2      0.008363  0.722218  0.830519              4.497022            0.033275   \n",
       "3      0.012544  0.720765  0.828848              4.495504            0.038909   \n",
       "4      0.016726  0.719312  0.827177              4.493966            0.043946   \n",
       "\n",
       "   cell potential[V]  \n",
       "0           4.480000  \n",
       "1           4.471530  \n",
       "2           4.463747  \n",
       "3           4.456595  \n",
       "4           4.450020  "
      ]
     },
     "execution_count": 6,
     "metadata": {},
     "output_type": "execute_result"
    }
   ],
   "source": [
    "#Cell OCV\n",
    "Capacity=np.linspace(0, theoretical_cap_a, 500)\n",
    "x_c = np.linspace(full_x_c, 0, 500)\n",
    "x_a = np.linspace(full_x_a, 0, 500)\n",
    "cell_ocv=pd.DataFrame()\n",
    "cell_ocv['Capacity[Ah]']=Capacity\n",
    "cell_ocv['x_c']=x_c\n",
    "cell_ocv['x_a']=x_a\n",
    "cell_ocv['cathode potential[V]']=ocv_c(x_c)\n",
    "cell_ocv['anode potential[V]']=ocv_a(x_a)\n",
    "cell_ocv['cell potential[V]']=cell_ocv['cathode potential[V]']-cell_ocv['anode potential[V]']\n",
    "cell_ocv.head() #確認"
   ]
  },
  {
   "cell_type": "code",
   "execution_count": 8,
   "metadata": {},
   "outputs": [
    {
     "name": "stdout",
     "output_type": "stream",
     "text": [
      "type(fig): <class 'matplotlib.figure.Figure'>\n"
     ]
    },
    {
     "data": {
      "image/png": "[encoded data removed]",
      "text/plain": [
       "<Figure size 432x288 with 2 Axes>"
      ]
     },
     "metadata": {},
     "output_type": "display_data"
    }
   ],
   "source": [
    "#グラフで確認\n",
    "#1 Figureのインスタンス作成\n",
    "import matplotlib.pyplot as plt\n",
    "fig = plt.figure() #figsize=(16,9))\n",
    "print(\"type(fig): {}\".format(type(fig))) #わからん\n",
    "\n",
    "#2 Axesのインスタンス作成\n",
    "#ax3 = fig.add_subplot(121)\n",
    "ax1 = fig.add_subplot(111)\n",
    "ax2 = ax1.twinx()\n",
    "\n",
    "#3 データを渡してプロット\n",
    "ax1.plot(cell_ocv['Capacity[Ah]'], cell_ocv['cell potential[V]'], label='cell')\n",
    "ax1.plot(cell_ocv['Capacity[Ah]'], cell_ocv['cathode potential[V]'], label='cathode')\n",
    "ax2.plot(cell_ocv['Capacity[Ah]'], cell_ocv['anode potential[V]'], label='anode', color='g')\n",
    "\n",
    "\n",
    "ax1.set_xlabel(\"Capacity[Ah]\")\n",
    "ax1.set_ylabel(\"$Voltage[V]$, $Potential [V (v.s. Li/Li^+)]$\")\n",
    "ax1.set_ylim(2.5, 4.6)\n",
    "ax2.set_ylabel(\"$Potential [V (v.s. Li/Li^+)]$\")\n",
    "ax2.set_ylim(0.0, 1)\n",
    "\n",
    "ax1.legend()\n",
    "ax2.legend()\n",
    "\n",
    "fig.tight_layout() #かぶり\n",
    "\n",
    "plt.show()\n",
    "#ax2.plot(x, trajectories)"
   ]
  },
  {
   "cell_type": "markdown",
   "metadata": {},
   "source": [
    "Physical Parameter"
   ]
  },
  {
   "cell_type": "code",
   "execution_count": 9,
   "metadata": {},
   "outputs": [],
   "source": [
    "#Physical Parameter　input　*GUI\n",
    "sigma_eff_neg = 100 #electronic conductivity of Electrode Solid Phase[S/m]\n",
    "a_neg = 1 #Specific Surface Area of Electrode[m^2/m^3]\n",
    "F = 96500 #Faraday constant [C/mol =sec A / mol]\n",
    "t_p = 0.4 #transport number"
   ]
  },
  {
   "cell_type": "markdown",
   "metadata": {},
   "source": [
    "Simulation Condition"
   ]
  },
  {
   "cell_type": "code",
   "execution_count": 10,
   "metadata": {},
   "outputs": [],
   "source": [
    "#Simulation Condition *GUI\n",
    "Neg_grid_num = 50 #負極のGrid数\n",
    "x_neg_array_1 = np.linspace(0, L_neg, Neg_grid_num) #xの配列\n",
    "dx_neg = L_neg/Neg_grid_num #負極の1Gridの長さ[m]\n",
    "x_neg_array_2 = np.linspace((0+dx_neg)/2, (L_neg-dx_neg/2), (Neg_grid_num-1) )#xの配列 中間点\n",
    "dt = 10 #時間離散 [sec] "
   ]
  },
  {
   "cell_type": "markdown",
   "metadata": {},
   "source": [
    "Charge discharge Condition *GUI"
   ]
  },
  {
   "cell_type": "code",
   "execution_count": 11,
   "metadata": {},
   "outputs": [],
   "source": [
    "#Charge discharge Condition *GUI\n",
    "Current = 1 #[A]\n",
    "I = Current/Area\n",
    "Time = 60*2*0.8 #放電時間[sec] 60min+0.5C充電+DOD80%"
   ]
  },
  {
   "cell_type": "markdown",
   "metadata": {},
   "source": [
    "Simulator"
   ]
  },
  {
   "cell_type": "code",
   "execution_count": null,
   "metadata": {},
   "outputs": [],
   "source": [
    "#Setting 14 Variables \n",
    "\"\"\"\n",
    "J_Li_neg = #(x, t) #0<x<L_neg\n",
    "J_Li_pos #(x, t) # L_pos<x<L\n",
    "U_neg #(x, t) # 0<x<L_neg\n",
    "U_pos #(x, t) # L_pos<x<L\n",
    "phi_e_neg #(x, t) #0<x<L_neg\n",
    "phi_e_sep #(x, t) #L_neg<x<L_pos\n",
    "phi_e_pos #(x, t) #L_pos<x<L\n",
    "Ce_neg #(x, t) #0<x<L_neg\n",
    "Ce_sep #(x, t) #L_neg<x<L_pos\n",
    "Ce_pos #(x, t) #L_pos<x<L\n",
    "phi_s_neg #(x, t) #0<x<L_neg\n",
    "phi_s_pos #(x, t) #L_pos<x<L\n",
    "Cs_neg #(x, r, t) #0<r<R_neg, 0<x<L_neg\n",
    "Cs_pos #(x, r, t) #0<r<R_pos, L_pos<x<L\n",
    "\"\"\""
   ]
  },
  {
   "cell_type": "markdown",
   "metadata": {},
   "source": [
    "\\1. Calclulate Phi_s and J_Li  \n",
    "Solid_phase_Charge_Conservation\n",
    "\\begin{equation*}\n",
    "\\sigma_{eff}\\frac{\\partial^2\\phi_s(x, t)}{\\partial x^2} = a_{neg}FJ_{Li}(x, t)\\\\\n",
    "\\sigma_{eff}\\frac{\\partial^2\\phi_s(x, t)}{\\partial x^2} = \\sigma_{eff} \\left(\\frac{\\phi_s(x+\\Delta x)-2\\phi_s(x)+\\phi_s(x-\\Delta x)}{\\Delta x^2}\\right)=a_{neg}FJ_{Li}(x, t)\n",
    "\\end{equation*}\n",
    "Boundry Condition\n",
    "\\begin{equation*}\n",
    "- \\sigma_{eff}\\frac{\\partial \\phi_s}{\\partial x} \\vert _{x=0} = I \\\\\n",
    "- \\sigma_{eff}\\frac{\\partial \\phi_s}{\\partial x} \\vert _{x=L_{neg}} = 0 \\\\\n",
    "\\end{equation*}"
   ]
  },
  {
   "cell_type": "code",
   "execution_count": null,
   "metadata": {},
   "outputs": [],
   "source": [
    "###TODO###\n",
    "#正極側のSolid phase potentialもやる。"
   ]
  },
  {
   "cell_type": "code",
   "execution_count": 77,
   "metadata": {},
   "outputs": [],
   "source": [
    "#initial value\n",
    "#Tentative Variables \n",
    "phi_s_neg_value = np.zeros(Neg_grid_num-1) #[V]\n",
    "d_phi_s_neg_dx_value = np.zeros(Neg_grid_num ) #[A/cm^2]\n",
    "J_Li_neg_value = np.full(Neg_grid_num-1, I*t_p) #[mol m^-2 sec-1]\n",
    "#二次元配列化\n",
    "phi_s_neg=np.array([x_neg_array_2, phi_s_neg_value]) #二次元配列化\n",
    "d_phi_s_neg_dx=np.array([x_neg_array_1, phi_s_neg_value]) #二次元配列化\n",
    "J_Li_neg=np.array([x_neg_array_2, phi_s_neg_value]) #二次元配列化"
   ]
  },
  {
   "cell_type": "code",
   "execution_count": null,
   "metadata": {},
   "outputs": [],
   "source": [
    "#phi_s_negの計算\n",
    "\n"
   ]
  },
  {
   "cell_type": "code",
   "execution_count": null,
   "metadata": {},
   "outputs": [],
   "source": [
    "def solid_charge(t):\n",
    "     = J_Li"
   ]
  },
  {
   "cell_type": "code",
   "execution_count": 53,
   "metadata": {},
   "outputs": [
    {
     "data": {
      "text/plain": [
       "array([1.4803849e-08, 0.0000000e+00, 0.0000000e+00, 0.0000000e+00,\n",
       "       0.0000000e+00, 0.0000000e+00, 0.0000000e+00, 0.0000000e+00,\n",
       "       0.0000000e+00, 0.0000000e+00, 0.0000000e+00, 0.0000000e+00,\n",
       "       0.0000000e+00, 0.0000000e+00, 0.0000000e+00, 0.0000000e+00,\n",
       "       0.0000000e+00, 0.0000000e+00, 0.0000000e+00, 0.0000000e+00,\n",
       "       0.0000000e+00, 0.0000000e+00, 0.0000000e+00, 0.0000000e+00,\n",
       "       0.0000000e+00, 0.0000000e+00, 0.0000000e+00, 0.0000000e+00,\n",
       "       0.0000000e+00, 0.0000000e+00, 0.0000000e+00, 0.0000000e+00,\n",
       "       0.0000000e+00, 0.0000000e+00, 0.0000000e+00, 0.0000000e+00,\n",
       "       0.0000000e+00, 0.0000000e+00, 0.0000000e+00, 0.0000000e+00,\n",
       "       0.0000000e+00, 0.0000000e+00, 0.0000000e+00, 0.0000000e+00,\n",
       "       0.0000000e+00, 0.0000000e+00, 0.0000000e+00, 0.0000000e+00])"
      ]
     },
     "execution_count": 53,
     "metadata": {},
     "output_type": "execute_result"
    }
   ],
   "source": [
    "#関数部\n",
    "def solid_charge(phi_s_neg):\n",
    "    J_Li_neg = sigma_eff_neg*((d_phi_s_neg_dx[2:] - d_phi_s_neg_dx[0:-2])/ dx_neg) / a_neg / F \n",
    "    return J_Li_neg\n",
    "\n",
    "#境界条件\n",
    "d_phi_s_neg_dx[0]= -I / sigma_eff_neg * dx_neg\n",
    "d_phi_s_neg_dx[:0]=0\n",
    "\n",
    "#実行 J_Li_neg(x, t)の算出\n",
    "solid_charge(phi_s_neg)"
   ]
  },
  {
   "cell_type": "code",
   "execution_count": 49,
   "metadata": {},
   "outputs": [
    {
     "ename": "ValueError",
     "evalue": "could not broadcast input array from shape (49) into shape (0)",
     "output_type": "error",
     "traceback": [
      "\u001b[1;31m---------------------------------------------------------------------------\u001b[0m",
      "\u001b[1;31mValueError\u001b[0m                                Traceback (most recent call last)",
      "\u001b[1;32m<ipython-input-49-546ed9677308>\u001b[0m in \u001b[0;36m<module>\u001b[1;34m()\u001b[0m\n\u001b[0;32m      6\u001b[0m \u001b[1;31m#境界条件\u001b[0m\u001b[1;33m\u001b[0m\u001b[1;33m\u001b[0m\u001b[0m\n\u001b[0;32m      7\u001b[0m \u001b[0mphi_s_neg\u001b[0m\u001b[1;33m[\u001b[0m\u001b[1;36m1\u001b[0m\u001b[1;33m]\u001b[0m\u001b[1;33m=\u001b[0m \u001b[0mphi_s_neg\u001b[0m\u001b[1;33m[\u001b[0m\u001b[1;36m0\u001b[0m\u001b[1;33m]\u001b[0m\u001b[1;33m*\u001b[0m\u001b[1;33m(\u001b[0m \u001b[1;33m-\u001b[0m\u001b[0mI\u001b[0m \u001b[1;33m/\u001b[0m \u001b[0msigma_eff_neg\u001b[0m \u001b[1;33m*\u001b[0m \u001b[0mdx_neg\u001b[0m\u001b[1;33m)\u001b[0m\u001b[1;33m\u001b[0m\u001b[0m\n\u001b[1;32m----> 8\u001b[1;33m \u001b[0mphi_s_neg\u001b[0m\u001b[1;33m[\u001b[0m\u001b[1;33m:\u001b[0m\u001b[1;36m0\u001b[0m\u001b[1;33m]\u001b[0m\u001b[1;33m=\u001b[0m\u001b[0mphi_s_neg\u001b[0m\u001b[1;33m[\u001b[0m\u001b[1;33m:\u001b[0m\u001b[1;33m-\u001b[0m\u001b[1;36m1\u001b[0m\u001b[1;33m]\u001b[0m\u001b[1;33m\u001b[0m\u001b[0m\n\u001b[0m\u001b[0;32m      9\u001b[0m \u001b[1;33m\u001b[0m\u001b[0m\n\u001b[0;32m     10\u001b[0m \u001b[1;31m#実行 J_Li_neg(x, t)の算出\u001b[0m\u001b[1;33m\u001b[0m\u001b[1;33m\u001b[0m\u001b[0m\n",
      "\u001b[1;31mValueError\u001b[0m: could not broadcast input array from shape (49) into shape (0)"
     ]
    }
   ],
   "source": [
    "#関数部\n",
    "def solid_charge(phi_s_neg):\n",
    "    J_Li_neg = sigma_eff_neg*((phi_s_neg[2:] - 2* phi_s_neg[1:-1] + phi_s_neg[0:-2])/ dx_neg**2) / a_neg / F \n",
    "    return J_Li_neg\n",
    "\n",
    "#境界条件\n",
    "phi_s_neg[1]= phi_s_neg[0]*( -I / sigma_eff_neg * dx_neg)\n",
    "phi_s_neg[:0]=phi_s_neg[:-1]\n",
    "\n",
    "#実行 J_Li_neg(x, t)の算出\n",
    "solid_charge(phi_s_neg)"
   ]
  },
  {
   "cell_type": "markdown",
   "metadata": {},
   "source": [
    "\\2. Calculate Ce_neg and phi_e_neg"
   ]
  },
  {
   "cell_type": "markdown",
   "metadata": {},
   "source": [
    "Conservation of Species in Electrolyte Phase\n",
    "\\begin{equation*}\n",
    "\\varepsilon_e \\frac{\\partial}{\\partial t}C_e(x, t) = D_e^{eff}\\left(\\frac{\\partial^2C_e(x, t)}{\\partial x^2}\\right) + a_{neg}(1-t_+)J_{Li}(x,t)\n",
    "\\end{equation*}\n",
    "↓まだ\n",
    "\\begin{equation*}\n",
    "\\frac{\\partial}{\\partial t}\\ C_e(x, t)　= \\frac{D_e^{eff}}{\\varepsilon_e} \\left(\\frac{C_e(x+\\Delta x ) - 2C_e(x) + C_e(x - \\Delta x)}{\\Delta x^2}   \\right)\n",
    "+ a_{neg}(1-t_+)J_{Li}(x,t)\n",
    "\\end{equation*}"
   ]
  },
  {
   "cell_type": "markdown",
   "metadata": {},
   "source": [
    "Electrolyte Charge Consevaretion\n",
    "\\begin{equation*}\n",
    "-\\sigma_{eff}\\frac{\\partial \\phi_s(x, t)}{\\partial x} - \\kappa_{eff}\\frac{\\partial \\phi_e(x, t)}{\\partial x} \n",
    "+ \\frac{2\\kappa_{eff}RT}{F}(0.5-t_+)\\frac{\\partial lnC_e(x, t)}{\\partial x} = I\n",
    "\\end{equation*}"
   ]
  },
  {
   "cell_type": "markdown",
   "metadata": {},
   "source": [
    "\\3. Calculate Cs"
   ]
  },
  {
   "cell_type": "markdown",
   "metadata": {},
   "source": [
    "Solid Phase Diffusion\n",
    "\\begin{equation*}\n",
    "  \\frac{\\partial C_s(r, t)}{\\partial t} = D_s\\left(\\frac{2}{r}\\frac{\\partial C_s(r, t)}{\\partial r}+\\frac{\\partial^2 C_s(r, t)}{\\partial r^2}\\right)\n",
    "\\end{equation*}"
   ]
  },
  {
   "cell_type": "markdown",
   "metadata": {},
   "source": [
    "Boundry Condition\n",
    "\\begin{equation*}\n",
    "\\frac{\\partial C_s}{\\partial r} \\vert _{r=0} = 0 \\\\\n",
    "- D_s\\frac{\\partial C_s}{\\partial r} \\vert _{r=R(surface)} = J_{Li}(x, t) \\\\\n",
    "\\end{equation*}"
   ]
  },
  {
   "cell_type": "code",
   "execution_count": null,
   "metadata": {},
   "outputs": [],
   "source": []
  }
 ],
 "metadata": {
  "kernelspec": {
   "display_name": "Python 3",
   "language": "python",
   "name": "python3"
  },
  "language_info": {
   "codemirror_mode": {
    "name": "ipython",
    "version": 3
   },
   "file_extension": ".py",
   "mimetype": "text/x-python",
   "name": "python",
   "nbconvert_exporter": "python",
   "pygments_lexer": "ipython3",
   "version": "3.6.5"
  }
 },
 "nbformat": 4,
 "nbformat_minor": 2
}
