{
 "cells": [
  {
   "cell_type": "code",
   "execution_count": 1,
   "metadata": {},
   "outputs": [
    {
     "name": "stdout",
     "output_type": "stream",
     "text": [
      "C:/Users/ayana/OneDrive/Documents/BSSG2018/Implementation/OCV_fitting/LCO_OCV.csv\n"
     ]
    }
   ],
   "source": [
    "#parameter fileのパスを取得\n",
    "#Get the path of the parameter file\n",
    "#https://teratail.com/questions/145112\n",
    "import tkinter\n",
    "import tkinter.filedialog as tkFileDialog\n",
    "import os\n",
    "\n",
    "root = tkinter.Tk()\n",
    "# topmost指定(最前面)\n",
    "root.attributes('-topmost', True)\n",
    "root.withdraw()\n",
    "root.lift()\n",
    "root.focus_force()\n",
    "\n",
    "#iDir = r'C:/' #任意の場所から選択させたい場合↓を　initialdir=iDir にする\n",
    "# parentを指定\n",
    "filename = tkFileDialog.askopenfilename(parent=root, initialdir=os.getcwd()) #initialdir=os.getcwd()カレントからファイル選択　\n",
    "\n",
    "print(filename)"
   ]
  },
  {
   "cell_type": "code",
   "execution_count": 2,
   "metadata": {},
   "outputs": [],
   "source": [
    "import pandas as pd\n",
    "ocv_raw = pd.read_csv(filename, sep='\\t')"
   ]
  },
  {
   "cell_type": "code",
   "execution_count": 3,
   "metadata": {},
   "outputs": [
    {
     "data": {
      "text/html": [
       "<div>\n",
       "<style scoped>\n",
       "    .dataframe tbody tr th:only-of-type {\n",
       "        vertical-align: middle;\n",
       "    }\n",
       "\n",
       "    .dataframe tbody tr th {\n",
       "        vertical-align: top;\n",
       "    }\n",
       "\n",
       "    .dataframe thead th {\n",
       "        text-align: right;\n",
       "    }\n",
       "</style>\n",
       "<table border=\"1\" class=\"dataframe\">\n",
       "  <thead>\n",
       "    <tr style=\"text-align: right;\">\n",
       "      <th></th>\n",
       "      <th>x</th>\n",
       "      <th>Potential(V)</th>\n",
       "    </tr>\n",
       "  </thead>\n",
       "  <tbody>\n",
       "    <tr>\n",
       "      <th>0</th>\n",
       "      <td>0.00008</td>\n",
       "      <td>3.86678</td>\n",
       "    </tr>\n",
       "    <tr>\n",
       "      <th>1</th>\n",
       "      <td>0.00000</td>\n",
       "      <td>3.86260</td>\n",
       "    </tr>\n",
       "    <tr>\n",
       "      <th>2</th>\n",
       "      <td>0.00000</td>\n",
       "      <td>3.85925</td>\n",
       "    </tr>\n",
       "    <tr>\n",
       "      <th>3</th>\n",
       "      <td>0.00000</td>\n",
       "      <td>3.85591</td>\n",
       "    </tr>\n",
       "    <tr>\n",
       "      <th>4</th>\n",
       "      <td>0.00000</td>\n",
       "      <td>3.85257</td>\n",
       "    </tr>\n",
       "  </tbody>\n",
       "</table>\n",
       "</div>"
      ],
      "text/plain": [
       "         x  Potential(V)\n",
       "0  0.00008       3.86678\n",
       "1  0.00000       3.86260\n",
       "2  0.00000       3.85925\n",
       "3  0.00000       3.85591\n",
       "4  0.00000       3.85257"
      ]
     },
     "execution_count": 3,
     "metadata": {},
     "output_type": "execute_result"
    }
   ],
   "source": [
    "ocv_raw.head()"
   ]
  },
  {
   "cell_type": "code",
   "execution_count": 4,
   "metadata": {},
   "outputs": [
    {
     "data": {
      "text/plain": [
       "0    0.00008\n",
       "1    0.00000\n",
       "2    0.00000\n",
       "3    0.00000\n",
       "4    0.00000\n",
       "Name: x, dtype: float64"
      ]
     },
     "execution_count": 4,
     "metadata": {},
     "output_type": "execute_result"
    }
   ],
   "source": [
    "ocv_raw['x'].head()"
   ]
  },
  {
   "cell_type": "code",
   "execution_count": 5,
   "metadata": {},
   "outputs": [],
   "source": [
    "#fit \n",
    "from scipy import optimize\n",
    " \n",
    "def func_c1(x, a, b, c, d, e, f, g, h, i, j, k, l):\n",
    "    return a + b*x**1 + c*x**2 + d*x**3 + e*x**4 + f*x**5+ g*x**6 + h*x**7 + i*x**8 + j*x**9 + k*x**10 + l*x**11\n",
    " \n",
    "fitpara=optimize.curve_fit(func_c1, ocv_raw['x'], ocv_raw['Potential(V)'])\n",
    "\n"
   ]
  },
  {
   "cell_type": "code",
   "execution_count": 6,
   "metadata": {},
   "outputs": [],
   "source": [
    "a=fitpara[0][0]\n",
    "b=fitpara[0][1]\n",
    "c=fitpara[0][2]\n",
    "d=fitpara[0][3]\n",
    "e=fitpara[0][4]\n",
    "f=fitpara[0][5]\n",
    "g=fitpara[0][6]\n",
    "h=fitpara[0][7]\n",
    "i=fitpara[0][8]\n",
    "j=fitpara[0][9]\n",
    "k=fitpara[0][10]\n",
    "l=fitpara[0][11]"
   ]
  },
  {
   "cell_type": "code",
   "execution_count": 7,
   "metadata": {},
   "outputs": [],
   "source": [
    "x = ocv_raw['x']\n",
    "ocv_raw['est_V']=a + b*x**1 + c*x**2 + d*x**3 + e*x**4 + f*x**5+ g*x**6 + h*x**7 + i*x**8 + j*x**9 + k*x**10 + l*x**11\n",
    " "
   ]
  },
  {
   "cell_type": "code",
   "execution_count": 9,
   "metadata": {},
   "outputs": [
    {
     "name": "stdout",
     "output_type": "stream",
     "text": [
      "type(fig): <class 'matplotlib.figure.Figure'>\n"
     ]
    },
    {
     "data": {
      "image/png": "[encoded data removed]",
      "text/plain": [
       "<Figure size 432x288 with 1 Axes>"
      ]
     },
     "metadata": {},
     "output_type": "display_data"
    }
   ],
   "source": [
    "#グラフ描写\n",
    "#1 Figureのインスタンス作成\n",
    "import matplotlib.pyplot as plt\n",
    "fig = plt.figure() #figsize=(16,9))\n",
    "print(\"type(fig): {}\".format(type(fig))) #わからん\n",
    "\n",
    "#2 Axesのインスタンス作成\n",
    "#ax3 = fig.add_subplot(121)\n",
    "ax1 = fig.add_subplot(111)\n",
    "\n",
    "#3 データを渡してプロット\n",
    "ax1.plot(x, ocv_raw['Potential(V)'], label='exp.')\n",
    "ax1.plot(x, ocv_raw['est_V'], label='est.', linestyle=\"dashed\")\n",
    "\n",
    "ax1.set_xlabel(\"$x in Li_{1-x}CoO_2$\")\n",
    "ax1.set_ylabel(\"$Potential [V (v.s. Li/Li^+)]$\")\n",
    "\n",
    "ax1.legend()\n",
    "\n",
    "fig.tight_layout() #かぶり\n",
    "\n",
    "plt.show()\n",
    "#ax2.plot(x, trajectories)"
   ]
  },
  {
   "cell_type": "code",
   "execution_count": null,
   "metadata": {},
   "outputs": [],
   "source": []
  }
 ],
 "metadata": {
  "kernelspec": {
   "display_name": "Python 3",
   "language": "python",
   "name": "python3"
  },
  "language_info": {
   "codemirror_mode": {
    "name": "ipython",
    "version": 3
   },
   "file_extension": ".py",
   "mimetype": "text/x-python",
   "name": "python",
   "nbconvert_exporter": "python",
   "pygments_lexer": "ipython3",
   "version": "3.6.5"
  }
 },
 "nbformat": 4,
 "nbformat_minor": 2
}
