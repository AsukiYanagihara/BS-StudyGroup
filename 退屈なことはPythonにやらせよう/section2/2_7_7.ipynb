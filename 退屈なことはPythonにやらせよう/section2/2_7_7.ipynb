{
 "cells": [
  {
   "cell_type": "code",
   "execution_count": 1,
   "metadata": {},
   "outputs": [],
   "source": [
    "# coding: utf-8"
   ]
  },
  {
   "cell_type": "code",
   "execution_count": 2,
   "metadata": {},
   "outputs": [
    {
     "data": {
      "text/plain": [
       "'\\n退屈なことはPythonにやらせよう\\n2.7.7\\u3000for ループ\\u3000とrange 関数\\n'"
      ]
     },
     "execution_count": 2,
     "metadata": {},
     "output_type": "execute_result"
    }
   ],
   "source": [
    "\"\"\"\n",
    "退屈なことはPythonにやらせよう\n",
    "2.7.7　for ループ　とrange 関数\n",
    "\"\"\""
   ]
  },
  {
   "cell_type": "code",
   "execution_count": 8,
   "metadata": {},
   "outputs": [
    {
     "name": "stdout",
     "output_type": "stream",
     "text": [
      "My neme is\n",
      "石川五右衛門 (0)\n",
      "石川五右衛門 (1)\n",
      "石川五右衛門 (2)\n",
      "石川五右衛門 (3)\n",
      "石川五右衛門 (4)\n"
     ]
    }
   ],
   "source": [
    "# 石川五右衛門\n",
    "print('My neme is')\n",
    "for i in range(5):\n",
    "    print('石川五右衛門 ('+ str(i)+')')"
   ]
  },
  {
   "cell_type": "code",
   "execution_count": 10,
   "metadata": {},
   "outputs": [
    {
     "name": "stdout",
     "output_type": "stream",
     "text": [
      "5050\n"
     ]
    }
   ],
   "source": [
    "# ガウスくん\n",
    "total = 0\n",
    "for num in range(101):\n",
    "    total = total + num #Total + num を101回繰り返す\n",
    "print(total)"
   ]
  },
  {
   "cell_type": "code",
   "execution_count": 11,
   "metadata": {},
   "outputs": [
    {
     "name": "stdout",
     "output_type": "stream",
     "text": [
      "私の名前は？\n",
      "石川五右衛門(0)\n",
      "石川五右衛門(1)\n",
      "石川五右衛門(2)\n",
      "石川五右衛門(3)\n",
      "石川五右衛門(4)\n"
     ]
    }
   ],
   "source": [
    "# 同等のwhile ループ\n",
    "print ('私の名前は？')\n",
    "i = 0\n",
    "while i < 5:\n",
    "    print('石川五右衛門('+ str(i)+')')\n",
    "    i = i + 1\n"
   ]
  },
  {
   "cell_type": "code",
   "execution_count": 12,
   "metadata": {},
   "outputs": [
    {
     "name": "stdout",
     "output_type": "stream",
     "text": [
      "12\n",
      "13\n",
      "14\n",
      "15\n"
     ]
    }
   ],
   "source": [
    "# range関数\n",
    "for i in range(12,16): #(開始値、終わり値)\n",
    "    print(i)"
   ]
  },
  {
   "cell_type": "code",
   "execution_count": 15,
   "metadata": {},
   "outputs": [
    {
     "name": "stdout",
     "output_type": "stream",
     "text": [
      "0\n",
      "3\n",
      "6\n",
      "9\n"
     ]
    }
   ],
   "source": [
    "# range関数\n",
    "for i in range(0,10,3):#(開始値、終わり値,ステップ)\n",
    "    print(i)"
   ]
  },
  {
   "cell_type": "code",
   "execution_count": 23,
   "metadata": {},
   "outputs": [
    {
     "name": "stdout",
     "output_type": "stream",
     "text": [
      "5\n",
      "3\n",
      "1\n",
      "-1\n",
      "-3\n",
      "-5\n",
      "-7\n",
      "-9\n"
     ]
    }
   ],
   "source": [
    "# カウントダウン\n",
    "for i in range(5,-10,-2):\n",
    "    print(i)"
   ]
  },
  {
   "cell_type": "code",
   "execution_count": null,
   "metadata": {},
   "outputs": [],
   "source": []
  }
 ],
 "metadata": {
  "kernelspec": {
   "display_name": "Python 3",
   "language": "python",
   "name": "python3"
  },
  "language_info": {
   "codemirror_mode": {
    "name": "ipython",
    "version": 3
   },
   "file_extension": ".py",
   "mimetype": "text/x-python",
   "name": "python",
   "nbconvert_exporter": "python",
   "pygments_lexer": "ipython3",
   "version": "3.6.5"
  }
 },
 "nbformat": 4,
 "nbformat_minor": 2
}
