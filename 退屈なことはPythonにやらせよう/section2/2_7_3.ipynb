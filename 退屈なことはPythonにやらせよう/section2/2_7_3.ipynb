{
 "cells": [
  {
   "cell_type": "code",
   "execution_count": 13,
   "metadata": {},
   "outputs": [],
   "source": [
    "# coding: utf-8"
   ]
  },
  {
   "cell_type": "code",
   "execution_count": null,
   "metadata": {},
   "outputs": [],
   "source": [
    "\"\"\"\n",
    "退屈なことはPythonにやらせよう\n",
    "2.7.3　elif文\n",
    "\"\"\""
   ]
  },
  {
   "cell_type": "code",
   "execution_count": 14,
   "metadata": {},
   "outputs": [],
   "source": [
    "# パラメータ\n",
    "name = 'alice'\n",
    "age = 14"
   ]
  },
  {
   "cell_type": "code",
   "execution_count": 15,
   "metadata": {},
   "outputs": [
    {
     "name": "stdout",
     "output_type": "stream",
     "text": [
      "やあalice\n"
     ]
    }
   ],
   "source": [
    "# フロー制御\n",
    "if name == 'alice':\n",
    "    print('やあalice')\n",
    "elif age < 12:\n",
    "    print('aliceじゃないね、くそがきが')"
   ]
  },
  {
   "cell_type": "code",
   "execution_count": 23,
   "metadata": {},
   "outputs": [],
   "source": [
    "# パラメータ\n",
    "name = 'ALICE'\n",
    "age = 10"
   ]
  },
  {
   "cell_type": "code",
   "execution_count": 24,
   "metadata": {},
   "outputs": [
    {
     "name": "stdout",
     "output_type": "stream",
     "text": [
      "aliceじゃないね、くそがきが\n"
     ]
    }
   ],
   "source": [
    "# フロー制御\n",
    "if name == 'alice':\n",
    "    print('やあalice')\n",
    "elif age < 12:\n",
    "    print('aliceじゃないね、くそがきが')"
   ]
  },
  {
   "cell_type": "code",
   "execution_count": 25,
   "metadata": {},
   "outputs": [],
   "source": [
    "# パラメータ\n",
    "name = 'ALICE'\n",
    "age = 14"
   ]
  },
  {
   "cell_type": "code",
   "execution_count": 26,
   "metadata": {},
   "outputs": [
    {
     "name": "stdout",
     "output_type": "stream",
     "text": [
      "aliceじゃないね、くそばばあ\n"
     ]
    }
   ],
   "source": [
    "# フロー制御2\n",
    "if name == 'alice':\n",
    "    print('やあalice')\n",
    "elif age < 12:\n",
    "    print('aliceじゃないね、くそがきが')\n",
    "elif age >= 12:\n",
    "    print('aliceじゃないね、くそばばあ')"
   ]
  },
  {
   "cell_type": "code",
   "execution_count": null,
   "metadata": {},
   "outputs": [],
   "source": []
  }
 ],
 "metadata": {
  "kernelspec": {
   "display_name": "Python 3",
   "language": "python",
   "name": "python3"
  },
  "language_info": {
   "codemirror_mode": {
    "name": "ipython",
    "version": 3
   },
   "file_extension": ".py",
   "mimetype": "text/x-python",
   "name": "python",
   "nbconvert_exporter": "python",
   "pygments_lexer": "ipython3",
   "version": "3.6.5"
  }
 },
 "nbformat": 4,
 "nbformat_minor": 2
}
