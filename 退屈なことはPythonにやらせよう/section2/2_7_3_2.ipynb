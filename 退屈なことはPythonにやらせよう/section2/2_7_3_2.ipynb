{
 "cells": [
  {
   "cell_type": "code",
   "execution_count": 1,
   "metadata": {},
   "outputs": [],
   "source": [
    "# coding: utf-8"
   ]
  },
  {
   "cell_type": "code",
   "execution_count": 2,
   "metadata": {},
   "outputs": [
    {
     "data": {
      "text/plain": [
       "'\\n退屈なことはPythonにやらせよう\\n2.7.3_2\\u3000elif文の連結\\n'"
      ]
     },
     "execution_count": 2,
     "metadata": {},
     "output_type": "execute_result"
    }
   ],
   "source": [
    "\"\"\"\n",
    "退屈なことはPythonにやらせよう\n",
    "2.7.3_2　elif文の連結\n",
    "\"\"\""
   ]
  },
  {
   "cell_type": "code",
   "execution_count": 3,
   "metadata": {},
   "outputs": [
    {
     "name": "stdout",
     "output_type": "stream",
     "text": [
      "あなたはだれ?\n",
      "何歳？\n"
     ]
    }
   ],
   "source": [
    "# パラメータ入力部\n",
    "print('あなたはだれ?')\n",
    "name = input()\n",
    "print('何歳？')\n",
    "age = int(input()) #このままだと文字列になるのでint()で数値になおす"
   ]
  },
  {
   "cell_type": "code",
   "execution_count": 4,
   "metadata": {},
   "outputs": [
    {
     "name": "stdout",
     "output_type": "stream",
     "text": [
      "aliceじゃないね、くそがきが\n"
     ]
    }
   ],
   "source": [
    "# フロー図\n",
    "if name == 'alice':\n",
    "    print('やあalice')\n",
    "elif age < 12:\n",
    "    print('aliceじゃないね、くそがきが')\n",
    "else:\n",
    "    print('あなたはaliceでも子供でもないですね')"
   ]
  },
  {
   "cell_type": "code",
   "execution_count": null,
   "metadata": {},
   "outputs": [],
   "source": []
  }
 ],
 "metadata": {
  "kernelspec": {
   "display_name": "Python 3",
   "language": "python",
   "name": "python3"
  },
  "language_info": {
   "codemirror_mode": {
    "name": "ipython",
    "version": 3
   },
   "file_extension": ".py",
   "mimetype": "text/x-python",
   "name": "python",
   "nbconvert_exporter": "python",
   "pygments_lexer": "ipython3",
   "version": "3.6.5"
  }
 },
 "nbformat": 4,
 "nbformat_minor": 2
}
