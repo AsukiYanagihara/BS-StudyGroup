{
 "cells": [
  {
   "cell_type": "code",
   "execution_count": 1,
   "metadata": {},
   "outputs": [],
   "source": [
    "# coding: utf-8"
   ]
  },
  {
   "cell_type": "code",
   "execution_count": 2,
   "metadata": {},
   "outputs": [
    {
     "data": {
      "text/plain": [
       "'\\n退屈なことはPythonにやらせよう\\n2.7.5\\u3000break, continue\\n'"
      ]
     },
     "execution_count": 2,
     "metadata": {},
     "output_type": "execute_result"
    }
   ],
   "source": [
    "\"\"\"\n",
    "退屈なことはPythonにやらせよう\n",
    "2.7.5　break, continue\n",
    "\"\"\""
   ]
  },
  {
   "cell_type": "code",
   "execution_count": 6,
   "metadata": {},
   "outputs": [
    {
     "name": "stdout",
     "output_type": "stream",
     "text": [
      "あなたの名前を入力してください\n",
      "あなたの名前を入力してください\n",
      "どうも!\n"
     ]
    }
   ],
   "source": [
    "# while 文\n",
    "name = ''\n",
    "while name != 'あなたの名前':\n",
    "    print('あなたの名前を入力してください')\n",
    "    name = input()\n",
    "print('どうも!') #while文で改行があるので,whileを抜けたあとに表示される。"
   ]
  },
  {
   "cell_type": "code",
   "execution_count": null,
   "metadata": {},
   "outputs": [],
   "source": [
    "# break 「あなたの名前」が入力されたら処理が終わる\n",
    "while True:\n",
    "    print('あなたの名前を入力してください')\n",
    "    name = input()\n",
    "    if name == 'あなたの名前':\n",
    "        break\n",
    "print('どうも!')"
   ]
  },
  {
   "cell_type": "markdown",
   "metadata": {},
   "source": [
    "# while 文と# breakのcodeは同じ処理になる"
   ]
  },
  {
   "cell_type": "code",
   "execution_count": 8,
   "metadata": {},
   "outputs": [
    {
     "name": "stdout",
     "output_type": "stream",
     "text": [
      "Who are you\n",
      "Who are you\n",
      "こんにちはJoe。パスワードを入力してね\n",
      "Who are you\n",
      "こんにちはJoe。パスワードを入力してね\n",
      "認証しました\n"
     ]
    }
   ],
   "source": [
    "# continue\n",
    "while True:\n",
    "    print('Who are you')\n",
    "    name = input()\n",
    "    if name != 'Joe':\n",
    "        continue\n",
    "    print('こんにちはJoe。パスワードを入力してね')\n",
    "    password = input()\n",
    "    if password == 'swordfish':\n",
    "        break  \n",
    "print('認証しました')"
   ]
  },
  {
   "cell_type": "code",
   "execution_count": null,
   "metadata": {},
   "outputs": [],
   "source": []
  },
  {
   "cell_type": "code",
   "execution_count": null,
   "metadata": {},
   "outputs": [],
   "source": []
  }
 ],
 "metadata": {
  "kernelspec": {
   "display_name": "Python 3",
   "language": "python",
   "name": "python3"
  },
  "language_info": {
   "codemirror_mode": {
    "name": "ipython",
    "version": 3
   },
   "file_extension": ".py",
   "mimetype": "text/x-python",
   "name": "python",
   "nbconvert_exporter": "python",
   "pygments_lexer": "ipython3",
   "version": "3.6.5"
  }
 },
 "nbformat": 4,
 "nbformat_minor": 2
}
