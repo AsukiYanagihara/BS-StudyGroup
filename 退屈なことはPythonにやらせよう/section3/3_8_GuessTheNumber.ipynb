{
 "cells": [
  {
   "cell_type": "code",
   "execution_count": 3,
   "metadata": {},
   "outputs": [],
   "source": [
    "# coding: utf-8"
   ]
  },
  {
   "cell_type": "code",
   "execution_count": null,
   "metadata": {},
   "outputs": [],
   "source": [
    "\"\"\"\n",
    "退屈なことはPythonにやらせよう\n",
    "3.8 Guess The Number\n",
    "\"\"\""
   ]
  },
  {
   "cell_type": "code",
   "execution_count": 7,
   "metadata": {},
   "outputs": [
    {
     "name": "stdout",
     "output_type": "stream",
     "text": [
      "1~20までの数をあててください(´・ω・｀)\n"
     ]
    }
   ],
   "source": [
    "# 数あてゲーム　\n",
    "from random import*\n",
    "secret_number = randint(1,20)\n",
    "print('1~20までの数をあててください(´・ω・｀)')"
   ]
  },
  {
   "cell_type": "code",
   "execution_count": 13,
   "metadata": {},
   "outputs": [
    {
     "name": "stdout",
     "output_type": "stream",
     "text": [
      "数を入力してください(´・ω・｀)\n",
      "大きいです(＊Д＊)\n",
      "数を入力してください(´・ω・｀)\n",
      "大きいです(＊Д＊)\n",
      "数を入力してください(´・ω・｀)\n",
      "大きいです(＊Д＊)\n",
      "数を入力してください(´・ω・｀)\n",
      "大きいです(＊Д＊)\n",
      "数を入力してください(´・ω・｀)\n",
      "大きいです(＊Д＊)\n",
      "数を入力してください(´・ω・｀)\n",
      "大きいです(＊Д＊)\n",
      "残念( ;∀;)。正解は5でした( *´艸｀)\n"
     ]
    }
   ],
   "source": [
    "# 6回聞く\n",
    "for guesses_taken in range(1,7):\n",
    "    print('数を入力してください(´・ω・｀)')\n",
    "    guess = int(input())\n",
    "\n",
    "    if guess < secret_number:\n",
    "        print('小さいです(＊Д＊)')\n",
    "    elif guess > secret_number:\n",
    "        print('大きいです(＊Д＊)')\n",
    "    else:\n",
    "        break #当たり\n",
    "\n",
    "if guess == secret_number:\n",
    "    print('当たり(^_-)-☆' + str(guesses_taken) + '回で当たりました。')\n",
    "else:\n",
    "    print('残念( ;∀;)。正解は' + str(secret_number) +'でした( *´艸｀)')"
   ]
  },
  {
   "cell_type": "markdown",
   "metadata": {},
   "source": [
    "まとめ\n",
    "関数はコードを理論的なグループに分解する基本的な手段である\n",
    "関数はブラックボックスとみなすことができる。\n",
    "　すなわち、パラメータという入力と、戻り値という出力を持ち、内部のコードはほかの関数に影響を受けない。\n",
    "try. except(section3.7)を使えばエラーが起こっても回復力のあるプログラムが書ける。"
   ]
  }
 ],
 "metadata": {
  "kernelspec": {
   "display_name": "Python 3",
   "language": "python",
   "name": "python3"
  },
  "language_info": {
   "codemirror_mode": {
    "name": "ipython",
    "version": 3
   },
   "file_extension": ".py",
   "mimetype": "text/x-python",
   "name": "python",
   "nbconvert_exporter": "python",
   "pygments_lexer": "ipython3",
   "version": "3.6.5"
  }
 },
 "nbformat": 4,
 "nbformat_minor": 2
}
