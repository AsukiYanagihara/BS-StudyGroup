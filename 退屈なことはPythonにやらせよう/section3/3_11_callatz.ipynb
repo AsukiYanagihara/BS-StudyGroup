{
 "cells": [
  {
   "cell_type": "code",
   "execution_count": 2,
   "metadata": {},
   "outputs": [],
   "source": [
    "# coding: utf-8"
   ]
  },
  {
   "cell_type": "code",
   "execution_count": 3,
   "metadata": {},
   "outputs": [
    {
     "data": {
      "text/plain": [
       "'\\n退屈なことはPythonにやらせよう\\n3.11 Collatz数列\\nhttps://gist.github.com/hirookagikko/ee49fe693d156db2e4ade4c08aa24949\\n'"
      ]
     },
     "execution_count": 3,
     "metadata": {},
     "output_type": "execute_result"
    }
   ],
   "source": [
    "\"\"\"\n",
    "退屈なことはPythonにやらせよう\n",
    "3.11 Collatz数列\n",
    "＿＿＿＿＿＿\n",
    "「任意の正の整数 n をとり、\n",
    "・n が偶数の場合、n を 2 で割る\n",
    "・n が奇数の場合、n に 3 をかけて 1 を足す\n",
    "という操作を繰り返すと、どうなるか」\n",
    "→「どんな初期値から始めても、有限回の操作のうちに必ず 1 に到達する\n",
    "(そして 1→4→2→1 というループに入る)」という主張が、コラッツの予想である。\n",
    "＿＿＿＿＿＿＿\n",
    "\"\"\""
   ]
  },
  {
   "cell_type": "code",
   "execution_count": 4,
   "metadata": {},
   "outputs": [],
   "source": [
    "#Collatz関数の定義\n",
    "def collatz(number):\n",
    "    if number % 2 == 0:\n",
    "        return int(number / 2)\n",
    "    elif number % 2 == 1:\n",
    "        return int(3 * number + 1)"
   ]
  },
  {
   "cell_type": "code",
   "execution_count": 11,
   "metadata": {},
   "outputs": [
    {
     "name": "stdout",
     "output_type": "stream",
     "text": [
      "整数を入力してください\n"
     ]
    },
    {
     "ename": "ValueError",
     "evalue": "invalid literal for int() with base 10: 'あああ'",
     "output_type": "error",
     "traceback": [
      "\u001b[1;31m---------------------------------------------------------------------------\u001b[0m",
      "\u001b[1;31mValueError\u001b[0m                                Traceback (most recent call last)",
      "\u001b[1;32m<ipython-input-11-8223a06005ee>\u001b[0m in \u001b[0;36m<module>\u001b[1;34m()\u001b[0m\n\u001b[0;32m      1\u001b[0m \u001b[1;31m#ユーザーに整数値を入力してもらい、その数をcollatzに渡して呼び出し、関数が1を返すまで計算しつづける\u001b[0m\u001b[1;33m\u001b[0m\u001b[1;33m\u001b[0m\u001b[0m\n\u001b[0;32m      2\u001b[0m \u001b[0mprint\u001b[0m\u001b[1;33m(\u001b[0m\u001b[1;34m'整数を入力してください'\u001b[0m\u001b[1;33m)\u001b[0m\u001b[1;33m\u001b[0m\u001b[0m\n\u001b[1;32m----> 3\u001b[1;33m \u001b[0mnumber\u001b[0m \u001b[1;33m=\u001b[0m \u001b[0mint\u001b[0m\u001b[1;33m(\u001b[0m\u001b[0minput\u001b[0m\u001b[1;33m(\u001b[0m\u001b[1;33m)\u001b[0m\u001b[1;33m)\u001b[0m\u001b[1;33m\u001b[0m\u001b[0m\n\u001b[0m\u001b[0;32m      4\u001b[0m \u001b[1;32mtry\u001b[0m\u001b[1;33m:\u001b[0m\u001b[1;33m\u001b[0m\u001b[0m\n\u001b[0;32m      5\u001b[0m     \u001b[1;32mwhile\u001b[0m \u001b[0mnumber\u001b[0m \u001b[1;33m!=\u001b[0m \u001b[1;36m1\u001b[0m\u001b[1;33m:\u001b[0m\u001b[1;33m\u001b[0m\u001b[0m\n",
      "\u001b[1;31mValueError\u001b[0m: invalid literal for int() with base 10: 'あああ'"
     ]
    }
   ],
   "source": [
    "#ユーザーに整数値を入力してもらい、その数をcollatzに渡して呼び出し、関数が1を返すまで計算しつづける\n",
    "print('整数を入力してください')\n",
    "number = int(input())\n",
    "try:\n",
    "    while number != 1:\n",
    "        number = collatz(number)\n",
    "        print(number)\n",
    "except ValueError:\n",
    "    print(\"整数をいれてください\")"
   ]
  },
  {
   "cell_type": "code",
   "execution_count": 3,
   "metadata": {},
   "outputs": [
    {
     "name": "stdout",
     "output_type": "stream",
     "text": [
      "251\n",
      "754\n",
      "377\n",
      "1132\n",
      "566\n",
      "283\n",
      "850\n",
      "425\n",
      "1276\n",
      "638\n",
      "319\n",
      "958\n",
      "479\n",
      "1438\n",
      "719\n",
      "2158\n",
      "1079\n",
      "3238\n",
      "1619\n",
      "4858\n",
      "2429\n",
      "7288\n",
      "3644\n",
      "1822\n",
      "911\n",
      "2734\n",
      "1367\n",
      "4102\n",
      "2051\n",
      "6154\n",
      "3077\n",
      "9232\n",
      "4616\n",
      "2308\n",
      "1154\n",
      "577\n",
      "1732\n",
      "866\n",
      "433\n",
      "1300\n",
      "650\n",
      "325\n",
      "976\n",
      "488\n",
      "244\n",
      "122\n",
      "61\n",
      "184\n",
      "92\n",
      "46\n",
      "23\n",
      "70\n",
      "35\n",
      "106\n",
      "53\n",
      "160\n",
      "80\n",
      "40\n",
      "20\n",
      "10\n",
      "5\n",
      "16\n",
      "8\n",
      "4\n",
      "2\n",
      "1\n"
     ]
    }
   ],
   "source": [
    "# 模範解答\n",
    "# https://gist.github.com/hirookagikko/ee49fe693d156db2e4ade4c08aa24949\n",
    "# コラッツ数列\n",
    "# 入力された数値が1になるまで戻り値をcollatz()に渡し続ける\n",
    "\n",
    "def collatz(number):\n",
    "    if number % 2 == 0:\n",
    "        return int(number / 2)\n",
    "    else:\n",
    "        return int(3 * number + 1)\n",
    "\n",
    "try:\n",
    "    number = int(input(\"Input integer: \"))\n",
    "    if number == 1:\n",
    "        print(\"It's already 1.\")\n",
    "    else:\n",
    "        while number is not 1:\n",
    "            number = collatz(number)\n",
    "            print(number)\n",
    "\n",
    "except ValueError:\n",
    "    print(\"You must input integer.\")"
   ]
  },
  {
   "cell_type": "code",
   "execution_count": null,
   "metadata": {},
   "outputs": [],
   "source": []
  }
 ],
 "metadata": {
  "kernelspec": {
   "display_name": "Python 3",
   "language": "python",
   "name": "python3"
  },
  "language_info": {
   "codemirror_mode": {
    "name": "ipython",
    "version": 3
   },
   "file_extension": ".py",
   "mimetype": "text/x-python",
   "name": "python",
   "nbconvert_exporter": "python",
   "pygments_lexer": "ipython3",
   "version": "3.6.5"
  }
 },
 "nbformat": 4,
 "nbformat_minor": 2
}
