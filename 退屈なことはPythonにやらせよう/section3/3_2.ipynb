{
 "cells": [
  {
   "cell_type": "code",
   "execution_count": null,
   "metadata": {},
   "outputs": [],
   "source": [
    "# coding: utf-8"
   ]
  },
  {
   "cell_type": "code",
   "execution_count": null,
   "metadata": {},
   "outputs": [],
   "source": [
    "\"\"\"\n",
    "退屈なことはPythonにやらせよう\n",
    "3.2 戻り値とreturn文\n",
    "\"\"\""
   ]
  },
  {
   "cell_type": "code",
   "execution_count": 9,
   "metadata": {},
   "outputs": [
    {
     "name": "stdout",
     "output_type": "stream",
     "text": [
      "見通しはそれほどよくないです\n",
      "はい\n"
     ]
    }
   ],
   "source": [
    "import random\n",
    "\n",
    "def get_answer(answer_number):\n",
    "    if answer_number == 1:\n",
    "        return '確かにそうだ'\n",
    "    elif answer_number == 2:\n",
    "        return '間違いなくそうだ'\n",
    "    elif answer_number == 3:\n",
    "        return 'はい'\n",
    "    elif answer_number == 4:\n",
    "        return 'なんとももう一度やってみて'\n",
    "    elif answer_number == 5:\n",
    "        return 'あとでもう一度'\n",
    "    elif answer_number == 6:\n",
    "        return '集中してもう一度'\n",
    "    elif answer_number == 7:\n",
    "        return 'My answer is NO'\n",
    "    elif answer_number == 8:\n",
    "        return '見通しはそれほどよくないです'\n",
    "    elif answer_number == 9:\n",
    "        return 'とても疑わしい'\n",
    "\n",
    "r = random.randint(1, 9)\n",
    "fortune = get_answer(r)\n",
    "print(fortune)\n",
    "\n",
    "print(get_answer(random.randint(1,9)))"
   ]
  }
 ],
 "metadata": {
  "kernelspec": {
   "display_name": "Python 3",
   "language": "python",
   "name": "python3"
  },
  "language_info": {
   "codemirror_mode": {
    "name": "ipython",
    "version": 3
   },
   "file_extension": ".py",
   "mimetype": "text/x-python",
   "name": "python",
   "nbconvert_exporter": "python",
   "pygments_lexer": "ipython3",
   "version": "3.6.5"
  }
 },
 "nbformat": 4,
 "nbformat_minor": 2
}
