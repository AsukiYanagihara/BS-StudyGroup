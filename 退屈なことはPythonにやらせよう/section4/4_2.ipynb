{
 "cells": [
  {
   "cell_type": "code",
   "execution_count": null,
   "metadata": {},
   "outputs": [],
   "source": [
    "# coding: utf-8"
   ]
  },
  {
   "cell_type": "code",
   "execution_count": null,
   "metadata": {},
   "outputs": [],
   "source": [
    "\"\"\"\n",
    "退屈なことはPythonにやらせよう\n",
    "4.2 リストを使う\n",
    "\"\"\""
   ]
  },
  {
   "cell_type": "code",
   "execution_count": 1,
   "metadata": {},
   "outputs": [],
   "source": [
    "#だめな例\n",
    "#飼い猫の名前のリスト\n",
    "cat_name1 = 'Zophie'\n",
    "cat_name2 = 'Pooka'\n",
    "cat_name3 = 'Siomn'\n",
    "cat_name4 = 'Lady Macbeth'\n",
    "cat_name5 = 'Fat-tail'\n",
    "cat_name6 = 'Miss Cleo'"
   ]
  },
  {
   "cell_type": "code",
   "execution_count": 4,
   "metadata": {},
   "outputs": [
    {
     "name": "stdout",
     "output_type": "stream",
     "text": [
      "猫1の名前をいれてください\n",
      "猫2の名前をいれてください\n",
      "猫3の名前をいれてください\n",
      "猫4の名前をいれてください\n",
      "猫5の名前をいれてください\n",
      "猫6の名前をいれてください\n",
      "simon6\n"
     ]
    }
   ],
   "source": [
    "#猫の名前のリストをつくる\n",
    "print('猫1の名前をいれてください')\n",
    "cat_name1 = input()\n",
    "print('猫2の名前をいれてください')\n",
    "cat_name2 = input()\n",
    "print('猫3の名前をいれてください')\n",
    "cat_name3 = input()\n",
    "print('猫4の名前をいれてください')\n",
    "cat_name4 = input()\n",
    "print('猫5の名前をいれてください')\n",
    "cat_name5 = input()\n",
    "print('猫6の名前をいれてください')\n",
    "cat_name6 = input()\n",
    "print('猫の名前は次の通り')\n",
    "print(cat_name1 + '' + cat_name2 + '' + cat_name3 + '' + cat_name4 + '' + cat_name5 + '' + cat_name6)"
   ]
  },
  {
   "cell_type": "code",
   "execution_count": 6,
   "metadata": {},
   "outputs": [
    {
     "name": "stdout",
     "output_type": "stream",
     "text": [
      "猫1の名前を入力してくださいニャン終了するにはEnterキーだけを入力してくださいニャン\n",
      "猫2の名前を入力してくださいニャン終了するにはEnterキーだけを入力してくださいニャン\n",
      "猫3の名前を入力してくださいニャン終了するにはEnterキーだけを入力してくださいニャン\n",
      "猫4の名前を入力してくださいニャン終了するにはEnterキーだけを入力してくださいニャン\n",
      "猫の名前は下記の通り\n",
      " a\n",
      " b\n",
      " c\n"
     ]
    }
   ],
   "source": [
    "#リストを用いて改良したヴァージョン\n",
    "cat_names = []\n",
    "while True:\n",
    "    print('猫' + str(len(cat_names) + 1) + 'の名前を入力してくださいニャン' + '終了するにはEnterキーだけを入力してくださいニャン')\n",
    "    name = input()\n",
    "    if name == '':\n",
    "        break\n",
    "    cat_names = cat_names + [name] #リストの連結\n",
    "print('猫の名前は下記の通り')\n",
    "for name in cat_names:\n",
    "    print(' ' + name)"
   ]
  },
  {
   "cell_type": "code",
   "execution_count": null,
   "metadata": {},
   "outputs": [],
   "source": []
  },
  {
   "cell_type": "code",
   "execution_count": null,
   "metadata": {},
   "outputs": [],
   "source": [
    "\"\"\"\n",
    "リストをもつ利点は\n",
    "リストはデータ構造をもつので\n",
    "たくさんの似た変数を用いるよりもはるかに柔軟にデータを処理できる。\n",
    "\"\"\""
   ]
  }
 ],
 "metadata": {
  "kernelspec": {
   "display_name": "Python 3",
   "language": "python",
   "name": "python3"
  },
  "language_info": {
   "codemirror_mode": {
    "name": "ipython",
    "version": 3
   },
   "file_extension": ".py",
   "mimetype": "text/x-python",
   "name": "python",
   "nbconvert_exporter": "python",
   "pygments_lexer": "ipython3",
   "version": "3.6.5"
  }
 },
 "nbformat": 4,
 "nbformat_minor": 2
}
