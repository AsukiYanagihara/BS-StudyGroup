{
 "cells": [
  {
   "cell_type": "code",
   "execution_count": null,
   "metadata": {},
   "outputs": [],
   "source": [
    "# coding: utf-8"
   ]
  },
  {
   "cell_type": "code",
   "execution_count": null,
   "metadata": {},
   "outputs": [],
   "source": [
    "\"\"\"\n",
    "退屈なことはPythonにやらせよう\n",
    "4.10 演習プログラム\n",
    "文字絵グリッド 2重forループ\n",
    "\"\"\""
   ]
  },
  {
   "cell_type": "code",
   "execution_count": 2,
   "metadata": {},
   "outputs": [],
   "source": [
    "grid = [['.','.','.','.','.','.'],\n",
    "        ['.','0','0','.','.','.'],\n",
    "        ['0','0','0','0','.','.'],\n",
    "        ['0','0','0','0','0','.'],\n",
    "        ['.','0','0','0','0','0'],\n",
    "        ['0','0','0','0','0','.'],\n",
    "        ['0','0','0','0','.','.'],\n",
    "        ['.','0','0','.','.','.'],\n",
    "        ['.','.','.','.','.','.']]"
   ]
  },
  {
   "cell_type": "code",
   "execution_count": 3,
   "metadata": {},
   "outputs": [
    {
     "data": {
      "text/plain": [
       "[['.', '.', '.', '.', '.', '.'],\n",
       " ['.', '0', '0', '.', '.', '.'],\n",
       " ['0', '0', '0', '0', '.', '.'],\n",
       " ['0', '0', '0', '0', '0', '.'],\n",
       " ['.', '0', '0', '0', '0', '0'],\n",
       " ['0', '0', '0', '0', '0', '.'],\n",
       " ['0', '0', '0', '0', '.', '.'],\n",
       " ['.', '0', '0', '.', '.', '.'],\n",
       " ['.', '.', '.', '.', '.', '.']]"
      ]
     },
     "execution_count": 3,
     "metadata": {},
     "output_type": "execute_result"
    }
   ],
   "source": [
    "grid"
   ]
  },
  {
   "cell_type": "code",
   "execution_count": 12,
   "metadata": {},
   "outputs": [
    {
     "data": {
      "text/plain": [
       "9"
      ]
     },
     "execution_count": 12,
     "metadata": {},
     "output_type": "execute_result"
    }
   ],
   "source": [
    "len(grid)"
   ]
  },
  {
   "cell_type": "code",
   "execution_count": 13,
   "metadata": {},
   "outputs": [
    {
     "data": {
      "text/plain": [
       "6"
      ]
     },
     "execution_count": 13,
     "metadata": {},
     "output_type": "execute_result"
    }
   ],
   "source": [
    "len(grid[0])"
   ]
  },
  {
   "cell_type": "code",
   "execution_count": 39,
   "metadata": {},
   "outputs": [
    {
     "name": "stdout",
     "output_type": "stream",
     "text": [
      "..00.00.."
     ]
    }
   ],
   "source": [
    "#リストの0列目を1行目から9行目までprint\n",
    "for i in range(len(grid)):\n",
    "    print(grid[i][0], end='')"
   ]
  },
  {
   "cell_type": "code",
   "execution_count": 46,
   "metadata": {},
   "outputs": [
    {
     "name": "stdout",
     "output_type": "stream",
     "text": [
      ".\n",
      "..00.00...\n",
      ".0000000..\n",
      ".0000000..\n",
      "..00000...\n",
      "...000....\n",
      "....0...."
     ]
    }
   ],
   "source": [
    "#リストの0~5列目までを1行目から9行目までprint\n",
    "# yanagiharaオリジナル\n",
    "for j in range(len(grid[0])):\n",
    "        print(grid[i][j])\n",
    "        for i in range(len(grid)):\n",
    "            print(grid[i][j], end='')"
   ]
  },
  {
   "cell_type": "code",
   "execution_count": 49,
   "metadata": {},
   "outputs": [
    {
     "name": "stdout",
     "output_type": "stream",
     "text": [
      "..00.00..\n",
      ".0000000.\n",
      ".0000000.\n",
      "..00000..\n",
      "...000...\n",
      "....0....\n"
     ]
    }
   ],
   "source": [
    "# https://mainelog.amebaownd.com/posts/2699483\n",
    "for i in range(len(grid[0])): #グリッド[0]の列数だけ以下を繰り返す\n",
    "    for j in range(len(grid)): #グリッドの行数だけ以下を繰り返す\n",
    "        print(grid[j][i], end='') #gridの[j]列を改行なしでprintする。\n",
    "    print('') #gridの[j]列をprintしたら改行する"
   ]
  },
  {
   "cell_type": "code",
   "execution_count": null,
   "metadata": {},
   "outputs": [],
   "source": []
  }
 ],
 "metadata": {
  "kernelspec": {
   "display_name": "Python 3",
   "language": "python",
   "name": "python3"
  },
  "language_info": {
   "codemirror_mode": {
    "name": "ipython",
    "version": 3
   },
   "file_extension": ".py",
   "mimetype": "text/x-python",
   "name": "python",
   "nbconvert_exporter": "python",
   "pygments_lexer": "ipython3",
   "version": "3.6.5"
  }
 },
 "nbformat": 4,
 "nbformat_minor": 2
}
