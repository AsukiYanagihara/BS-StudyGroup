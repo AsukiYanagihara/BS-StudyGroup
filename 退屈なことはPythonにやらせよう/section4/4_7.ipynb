{
 "cells": [
  {
   "cell_type": "code",
   "execution_count": null,
   "metadata": {},
   "outputs": [],
   "source": [
    "# coding: utf-8"
   ]
  },
  {
   "cell_type": "code",
   "execution_count": null,
   "metadata": {},
   "outputs": [],
   "source": [
    "\"\"\"\n",
    "退屈なことはPythonにやらせよう\n",
    "4.7 参照\n",
    "4.7.1 参照を渡す\n",
    "4.7.2 copyモジュール　copy()とdeepcopy()\n",
    "\"\"\""
   ]
  },
  {
   "cell_type": "code",
   "execution_count": 2,
   "metadata": {},
   "outputs": [
    {
     "data": {
      "text/plain": [
       "100"
      ]
     },
     "execution_count": 2,
     "metadata": {},
     "output_type": "execute_result"
    }
   ],
   "source": [
    "# 変数の場合\n",
    "spam = 42\n",
    "cheese = spam\n",
    "spam = 100\n",
    "spam"
   ]
  },
  {
   "cell_type": "code",
   "execution_count": 3,
   "metadata": {},
   "outputs": [
    {
     "data": {
      "text/plain": [
       "42"
      ]
     },
     "execution_count": 3,
     "metadata": {},
     "output_type": "execute_result"
    }
   ],
   "source": [
    "cheese"
   ]
  },
  {
   "cell_type": "code",
   "execution_count": 4,
   "metadata": {},
   "outputs": [
    {
     "data": {
      "text/plain": [
       "[0, 'Hello', 2, 3, 4, 5]"
      ]
     },
     "execution_count": 4,
     "metadata": {},
     "output_type": "execute_result"
    }
   ],
   "source": [
    "# リストの場合\n",
    "# cheeseとspam両方変わってしまう\n",
    "\n",
    "spam = [0, 1, 2, 3, 4, 5]\n",
    "cheese = spam　# cheese = spam はリストでなく「参照」をコピーする\n",
    "cheese[1] = 'Hello' #2つのリストが参照するリストを変更する\n",
    "spam"
   ]
  },
  {
   "cell_type": "code",
   "execution_count": 5,
   "metadata": {},
   "outputs": [
    {
     "data": {
      "text/plain": [
       "[0, 'Hello', 2, 3, 4, 5]"
      ]
     },
     "execution_count": 5,
     "metadata": {},
     "output_type": "execute_result"
    }
   ],
   "source": [
    "cheese"
   ]
  },
  {
   "cell_type": "code",
   "execution_count": 7,
   "metadata": {},
   "outputs": [
    {
     "name": "stdout",
     "output_type": "stream",
     "text": [
      "[1, 2, 3, 'Hello']\n"
     ]
    }
   ],
   "source": [
    "# 4.7.1 参照を渡す\n",
    "# 関数に引数を渡す場合に非常に重要\n",
    "def eggs(some_parameter):\n",
    "    some_parameter.append('Hello')\n",
    "spam = [1, 2, 3]\n",
    "eggs(spam)\n",
    "print(spam)\n",
    "# eggs()を呼び出すときに。戻り値をspamに代入するのではなく、リストをインプレースして変更する。\n",
    "# spamとsome_parameterはおなじリストを参照する。"
   ]
  },
  {
   "cell_type": "code",
   "execution_count": 8,
   "metadata": {},
   "outputs": [
    {
     "data": {
      "text/plain": [
       "['A', 'B', 'C', 'D']"
      ]
     },
     "execution_count": 8,
     "metadata": {},
     "output_type": "execute_result"
    }
   ],
   "source": [
    "# copyモジュール　copy()とdeepcopy()\n",
    "import copy\n",
    "spam = ['A', 'B', 'C', 'D']\n",
    "cheese = copy.copy(spam) #cheeseとspamが異なるリストを参照するようになる\n",
    "cheese[1] = 42\n",
    "spam"
   ]
  },
  {
   "cell_type": "code",
   "execution_count": 9,
   "metadata": {},
   "outputs": [
    {
     "data": {
      "text/plain": [
       "['A', 42, 'C', 'D']"
      ]
     },
     "execution_count": 9,
     "metadata": {},
     "output_type": "execute_result"
    }
   ],
   "source": [
    "cheese"
   ]
  },
  {
   "cell_type": "code",
   "execution_count": 10,
   "metadata": {},
   "outputs": [
    {
     "data": {
      "text/plain": [
       "['A', 'B', 'C', 'D']"
      ]
     },
     "execution_count": 10,
     "metadata": {},
     "output_type": "execute_result"
    }
   ],
   "source": [
    "import copy\n",
    "spam = ['A', 'B', 'C', 'D']\n",
    "cheese = copy.deepcopy(spam) #リストを含むリストまでコピーする。(意味不明)\n",
    "cheese[1] = 42\n",
    "spam"
   ]
  },
  {
   "cell_type": "code",
   "execution_count": 11,
   "metadata": {},
   "outputs": [
    {
     "data": {
      "text/plain": [
       "['A', 42, 'C', 'D']"
      ]
     },
     "execution_count": 11,
     "metadata": {},
     "output_type": "execute_result"
    }
   ],
   "source": [
    "cheese"
   ]
  },
  {
   "cell_type": "code",
   "execution_count": 13,
   "metadata": {},
   "outputs": [
    {
     "name": "stdout",
     "output_type": "stream",
     "text": [
      "a = [[1, 2], [3, 4, 5]]\n",
      "b = [[1, 2], [3, 4, 5]]\n",
      "id(a) = 2300610206280\n",
      "id(b) = 2300610206024\n"
     ]
    }
   ],
   "source": [
    "# https://qiita.com/Kaz_K/items/a3d619b9e670e689b6db\n",
    "# shallow copy\n",
    "a = [[1, 2], [3, 4]]\n",
    "b = copy.copy(a)\n",
    "a[1].append(5)\n",
    "\n",
    "print (\"a = %s\" % a)\n",
    "print (\"b = %s\" % b)\n",
    "\n",
    "print (\"id(a) = %i\" % id(a))\n",
    "print (\"id(b) = %i\" % id(b))"
   ]
  },
  {
   "cell_type": "code",
   "execution_count": 14,
   "metadata": {},
   "outputs": [
    {
     "name": "stdout",
     "output_type": "stream",
     "text": [
      "a = [[1, 2], [3, 4, 5]]\n",
      "b = [[1, 2], [3, 4, 5]]\n",
      "id(a) = 2300611707400\n",
      "id(b) = 2300611707272\n",
      "id(a[0]) = 2300611707208\n",
      "id(b[0]) = 2300611707208\n",
      "id(a[1]) = 2300611707336\n",
      "id(b[1]) = 2300611707336\n"
     ]
    }
   ],
   "source": [
    "import copy\n",
    "a = [[1, 2], [3, 4]]\n",
    "b = copy.copy(a)\n",
    "a[1].append(5)\n",
    "\n",
    "print (\"a = %s\" % a)\n",
    "print (\"b = %s\" % b)\n",
    "\n",
    "print (\"id(a) = %i\" % id(a))\n",
    "print (\"id(b) = %i\" % id(b))\n",
    "\n",
    "print (\"id(a[0]) = %i\" % id(a[0])) # 追加行\n",
    "print (\"id(b[0]) = %i\" % id(b[0])) # 追加行\n",
    "\n",
    "print (\"id(a[1]) = %i\" % id(a[1])) # 追加行\n",
    "print (\"id(b[1]) = %i\" % id(b[1])) # 追加行"
   ]
  },
  {
   "cell_type": "code",
   "execution_count": null,
   "metadata": {},
   "outputs": [],
   "source": [
    "# 変数の中身、２次元配列の内部配列については、同じIDを指している\n",
    "# そのため、copy.copy()では変数aと変数bのID自体は異なっているものの、変数bでも、配列の中身が更新されてしまう"
   ]
  },
  {
   "cell_type": "code",
   "execution_count": 15,
   "metadata": {},
   "outputs": [
    {
     "name": "stdout",
     "output_type": "stream",
     "text": [
      "a = [[1, 2], [3, 4, 5]]\n",
      "b = [[1, 2], [3, 4]]\n",
      "id(a) = 2300611622152\n",
      "id(b) = 2300611707144\n",
      "id(a[0]) = 2300610206216\n",
      "id(b[0]) = 2300611349832\n",
      "id(a[1]) = 2300611247944\n",
      "id(b[1]) = 2300611707528\n"
     ]
    }
   ],
   "source": [
    "import copy\n",
    "\n",
    "a = [[1, 2], [3, 4]]\n",
    "b = copy.deepcopy(a) #変更行\n",
    "a[1].append(5)\n",
    "\n",
    "print (\"a = %s\" % a)\n",
    "print (\"b = %s\" % b)\n",
    "\n",
    "print (\"id(a) = %i\" % id(a))\n",
    "print (\"id(b) = %i\" % id(b))\n",
    "\n",
    "print (\"id(a[0]) = %i\" % id(a[0]))\n",
    "print (\"id(b[0]) = %i\" % id(b[0]))\n",
    "\n",
    "print (\"id(a[1]) = %i\" % id(a[1]))\n",
    "print (\"id(b[1]) = %i\" % id(b[1]))"
   ]
  },
  {
   "cell_type": "code",
   "execution_count": null,
   "metadata": {},
   "outputs": [],
   "source": [
    "# 配列の中まで全てオブジェクトIDが異なっています。"
   ]
  }
 ],
 "metadata": {
  "kernelspec": {
   "display_name": "Python 3",
   "language": "python",
   "name": "python3"
  },
  "language_info": {
   "codemirror_mode": {
    "name": "ipython",
    "version": 3
   },
   "file_extension": ".py",
   "mimetype": "text/x-python",
   "name": "python",
   "nbconvert_exporter": "python",
   "pygments_lexer": "ipython3",
   "version": "3.6.5"
  }
 },
 "nbformat": 4,
 "nbformat_minor": 2
}
