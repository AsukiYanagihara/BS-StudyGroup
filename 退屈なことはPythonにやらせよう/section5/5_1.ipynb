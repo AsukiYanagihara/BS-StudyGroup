{
 "cells": [
  {
   "cell_type": "code",
   "execution_count": null,
   "metadata": {},
   "outputs": [],
   "source": [
    "# coding: utf-8"
   ]
  },
  {
   "cell_type": "code",
   "execution_count": null,
   "metadata": {},
   "outputs": [],
   "source": [
    "\"\"\"\n",
    "退屈なことはPythonにやらせよう\n",
    "5.1 辞書型\n",
    "5.1.1 辞書とリストの比較\n",
    "5.1.2 keys(), values(), items()メソッド\n",
    "5.1.3 キーや値が辞書に存在するか判定する\n",
    "5.1.4 get()メソッド\n",
    "5.1.5 setdefault()メソッド\n",
    "\"\"\""
   ]
  },
  {
   "cell_type": "code",
   "execution_count": 1,
   "metadata": {},
   "outputs": [],
   "source": [
    "# リストはインデックスが整数なのに対して、辞書のインデックスは様々なデータ型を用いることができる\n",
    "#　辞書のインデックスを'キー'　といい、'キー'と対応する値の組を'キー・バリュー・ペア'という。\n",
    "# 下記でキーは'size', 'color', 'dispotion'\n",
    "my_cat = {'size': 'fat', 'color': 'gray', 'dispotion': 'loud'}"
   ]
  },
  {
   "cell_type": "code",
   "execution_count": 2,
   "metadata": {},
   "outputs": [
    {
     "data": {
      "text/plain": [
       "'fat'"
      ]
     },
     "execution_count": 2,
     "metadata": {},
     "output_type": "execute_result"
    }
   ],
   "source": [
    "my_cat['size']"
   ]
  },
  {
   "cell_type": "code",
   "execution_count": 5,
   "metadata": {},
   "outputs": [
    {
     "data": {
      "text/plain": [
       "'my cat has gray fur.'"
      ]
     },
     "execution_count": 5,
     "metadata": {},
     "output_type": "execute_result"
    }
   ],
   "source": [
    "'my cat has ' + my_cat['color'] +' fur.'"
   ]
  },
  {
   "cell_type": "code",
   "execution_count": 6,
   "metadata": {},
   "outputs": [],
   "source": [
    "# リストと同様に辞書のキーとして整数値を使うことができる\n",
    "spam = {12345: 'language Combination', 42: 'The Answer'}"
   ]
  },
  {
   "cell_type": "code",
   "execution_count": 7,
   "metadata": {},
   "outputs": [
    {
     "data": {
      "text/plain": [
       "False"
      ]
     },
     "execution_count": 7,
     "metadata": {},
     "output_type": "execute_result"
    }
   ],
   "source": [
    "# 5.1.1辞書とリストの比較\n",
    "spam = ['cats', 'dogs', 'moose']\n",
    "bacon = ['dogs', 'moose', 'cats']\n",
    "spam == bacon"
   ]
  },
  {
   "cell_type": "code",
   "execution_count": 8,
   "metadata": {},
   "outputs": [],
   "source": [
    "eggs = {'neme': 'Zophie', 'species': 'cat', 'age': '8'}\n",
    "ham = {'species': 'cat', 'age': '8', 'neme': 'Zophie'}"
   ]
  },
  {
   "cell_type": "code",
   "execution_count": 9,
   "metadata": {},
   "outputs": [
    {
     "data": {
      "text/plain": [
       "True"
      ]
     },
     "execution_count": 9,
     "metadata": {},
     "output_type": "execute_result"
    }
   ],
   "source": [
    "eggs == ham"
   ]
  },
  {
   "cell_type": "code",
   "execution_count": 10,
   "metadata": {},
   "outputs": [
    {
     "ename": "KeyError",
     "evalue": "'name'",
     "output_type": "error",
     "traceback": [
      "\u001b[1;31m---------------------------------------------------------------------------\u001b[0m",
      "\u001b[1;31mKeyError\u001b[0m                                  Traceback (most recent call last)",
      "\u001b[1;32m<ipython-input-10-49bb496e5647>\u001b[0m in \u001b[0;36m<module>\u001b[1;34m()\u001b[0m\n\u001b[0;32m      1\u001b[0m \u001b[1;31m#辞書には順序関係がないのでリストのように：をつかって一部分を抜き出すことができない。\u001b[0m\u001b[1;33m\u001b[0m\u001b[1;33m\u001b[0m\u001b[0m\n\u001b[0;32m      2\u001b[0m \u001b[1;31m#辞書に存在しないキーを使ってアクセスするとエラーになる\u001b[0m\u001b[1;33m\u001b[0m\u001b[1;33m\u001b[0m\u001b[0m\n\u001b[1;32m----> 3\u001b[1;33m \u001b[0meggs\u001b[0m\u001b[1;33m[\u001b[0m\u001b[1;34m'name'\u001b[0m\u001b[1;33m]\u001b[0m\u001b[1;33m\u001b[0m\u001b[0m\n\u001b[0m",
      "\u001b[1;31mKeyError\u001b[0m: 'name'"
     ]
    }
   ],
   "source": [
    "#辞書には順序関係がないのでリストのように：をつかって一部分を抜き出すことができない。\n",
    "#辞書に存在しないキーを使ってアクセスするとエラーになる\n",
    "eggs['name']"
   ]
  },
  {
   "cell_type": "code",
   "execution_count": 13,
   "metadata": {},
   "outputs": [
    {
     "name": "stdout",
     "output_type": "stream",
     "text": [
      "名前を入力してください：(終了するにはEnterだけおしてください)\n",
      "イブの誕生日は未登録です\n",
      "誕生日を入力してください\n",
      "誕生日データベースを更新しました\n",
      "名前を入力してください：(終了するにはEnterだけおしてください)\n",
      "イブの誕生日は12/5\n",
      "名前を入力してください：(終了するにはEnterだけおしてください)\n"
     ]
    }
   ],
   "source": [
    "# 友人の誕生日のデータを記録するプログラム\n",
    "birthdays = {'アリス': '4/1', 'BoB': '12/12', 'キャロル': '4/4'}\n",
    "while True:\n",
    "    print('名前を入力してください：(終了するにはEnterだけおしてください)')\n",
    "    name = input()\n",
    "    if name == '':\n",
    "        break\n",
    "    \n",
    "    if name in birthdays: #リスト同様にキーワードinを用いて、入力された名前が辞書のキーとして存在しているか調べている\n",
    "        print(name + 'の誕生日は' + birthdays[name]) #[]かっこを用いて対応する値をアクセスする\n",
    "    else:\n",
    "        print(name + 'の誕生日は未登録です')\n",
    "        print('誕生日を入力してください')\n",
    "        bday = input()\n",
    "        birthdays[name] = bday #登録されていなければ[]と同様に代入演算子を用いてキー・バリュー・ペアを追加する\n",
    "        print('誕生日データベースを更新しました')"
   ]
  },
  {
   "cell_type": "code",
   "execution_count": 14,
   "metadata": {},
   "outputs": [
    {
     "data": {
      "text/plain": [
       "{'アリス': '4/1', 'BoB': '12/12', 'キャロル': '4/4', 'イブ': '12/5'}"
      ]
     },
     "execution_count": 14,
     "metadata": {},
     "output_type": "execute_result"
    }
   ],
   "source": [
    "birthdays"
   ]
  },
  {
   "cell_type": "code",
   "execution_count": 16,
   "metadata": {},
   "outputs": [
    {
     "data": {
      "text/plain": [
       "{'アリス': '4/1', 'BoB': '12/12', 'キャロル': '4/4', 'イブ': '12/5', 'マリア': '6/6'}"
      ]
     },
     "execution_count": 16,
     "metadata": {},
     "output_type": "execute_result"
    }
   ],
   "source": [
    "#辞書への追加のcoding\n",
    "name = 'マリア'\n",
    "bday = '6/6'\n",
    "birthdays[name] = bday\n",
    "birthdays"
   ]
  },
  {
   "cell_type": "code",
   "execution_count": 18,
   "metadata": {},
   "outputs": [
    {
     "name": "stdout",
     "output_type": "stream",
     "text": [
      "red\n",
      "42\n"
     ]
    }
   ],
   "source": [
    "#5.1.2keys(), values(), items()メソッド\n",
    "#辞書の値を返すvalues()\n",
    "# for ループを使って辞書spam の値を順番にたどっている\n",
    "spam = {'calor': 'red', 'age': 42}\n",
    "for v in spam.values():\n",
    "    print(v)"
   ]
  },
  {
   "cell_type": "code",
   "execution_count": 19,
   "metadata": {},
   "outputs": [
    {
     "name": "stdout",
     "output_type": "stream",
     "text": [
      "calor\n",
      "age\n"
     ]
    }
   ],
   "source": [
    "#辞書のキーをたどる\n",
    "for k in spam.keys():\n",
    "    print(k)"
   ]
  },
  {
   "cell_type": "code",
   "execution_count": 21,
   "metadata": {},
   "outputs": [
    {
     "name": "stdout",
     "output_type": "stream",
     "text": [
      "('calor', 'red')\n",
      "('age', 42)\n"
     ]
    }
   ],
   "source": [
    "#辞書のキー・バリュー・ペアをたどる\n",
    "for i in spam.items():\n",
    "    print(i)"
   ]
  },
  {
   "cell_type": "code",
   "execution_count": 23,
   "metadata": {},
   "outputs": [
    {
     "data": {
      "text/plain": [
       "dict_keys(['color', 'age'])"
      ]
     },
     "execution_count": 23,
     "metadata": {},
     "output_type": "execute_result"
    }
   ],
   "source": [
    "#これらのメソッドからかえされるものはタプル。\n",
    "#本物のリストをつくりたい場合\n",
    "spam = {'color': 'red', 'age': 42}\n",
    "spam.keys()"
   ]
  },
  {
   "cell_type": "code",
   "execution_count": 24,
   "metadata": {},
   "outputs": [
    {
     "data": {
      "text/plain": [
       "['color', 'age']"
      ]
     },
     "execution_count": 24,
     "metadata": {},
     "output_type": "execute_result"
    }
   ],
   "source": [
    "list(spam.keys())#keys()から返されたdict_keys型の値をlist()に渡して、['color', 'age']というリストの値を取得"
   ]
  },
  {
   "cell_type": "code",
   "execution_count": 28,
   "metadata": {},
   "outputs": [
    {
     "name": "stdout",
     "output_type": "stream",
     "text": [
      "key: color Value: red\n",
      "key: age Value: 42\n"
     ]
    }
   ],
   "source": [
    "#itemsメソッドを使って、キーと値を別々の変数に代入する\n",
    "spam = {'color': 'red', 'age': 42}\n",
    "for k, v in spam.items(): #items()で返される値がタプル型の(k, v)のため\n",
    "    print('key: '  + k + ' Value: ' + str(v)) #valueがint型のためprintにstrが必要"
   ]
  },
  {
   "cell_type": "code",
   "execution_count": 29,
   "metadata": {},
   "outputs": [
    {
     "data": {
      "text/plain": [
       "True"
      ]
     },
     "execution_count": 29,
     "metadata": {},
     "output_type": "execute_result"
    }
   ],
   "source": [
    "# 5.1.3キーや値が辞書に存在するか判定する\n",
    "# リストと同様にinやnot in が使える\n",
    "spam = {'name': 'Zophie', 'Age': 7}\n",
    "'name' in spam.keys()"
   ]
  },
  {
   "cell_type": "code",
   "execution_count": 30,
   "metadata": {},
   "outputs": [
    {
     "data": {
      "text/plain": [
       "True"
      ]
     },
     "execution_count": 30,
     "metadata": {},
     "output_type": "execute_result"
    }
   ],
   "source": [
    "'Zophie' in spam.values()"
   ]
  },
  {
   "cell_type": "code",
   "execution_count": 31,
   "metadata": {},
   "outputs": [
    {
     "data": {
      "text/plain": [
       "False"
      ]
     },
     "execution_count": 31,
     "metadata": {},
     "output_type": "execute_result"
    }
   ],
   "source": [
    "'color' in spam.keys()"
   ]
  },
  {
   "cell_type": "code",
   "execution_count": 32,
   "metadata": {},
   "outputs": [
    {
     "data": {
      "text/plain": [
       "True"
      ]
     },
     "execution_count": 32,
     "metadata": {},
     "output_type": "execute_result"
    }
   ],
   "source": [
    "'clolor' not in spam.keys()"
   ]
  },
  {
   "cell_type": "code",
   "execution_count": 33,
   "metadata": {},
   "outputs": [
    {
     "data": {
      "text/plain": [
       "False"
      ]
     },
     "execution_count": 33,
     "metadata": {},
     "output_type": "execute_result"
    }
   ],
   "source": [
    "'color' in spam #color in spam.keys()の短い書き方。 inやnotを辞書変数に対して実行するとキーしかみない。"
   ]
  },
  {
   "cell_type": "code",
   "execution_count": 34,
   "metadata": {},
   "outputs": [
    {
     "data": {
      "text/plain": [
       "False"
      ]
     },
     "execution_count": 34,
     "metadata": {},
     "output_type": "execute_result"
    }
   ],
   "source": [
    "'Zophie' in spam #ValueにZophieが含まれるがKeyに含まれていないのでFalse。"
   ]
  },
  {
   "cell_type": "code",
   "execution_count": 36,
   "metadata": {},
   "outputs": [
    {
     "data": {
      "text/plain": [
       "'I am bringing 2 cups.'"
      ]
     },
     "execution_count": 36,
     "metadata": {},
     "output_type": "execute_result"
    }
   ],
   "source": [
    "# 5.1.4 get()メソッド\n",
    "# get()メソッドは「アクセスしたいキー」と「そのキーが存在しないときに用いる値」の2つを引数とする\n",
    "picnic_items = {'apples': 5, 'cups': 2}\n",
    "'I am bringing ' + str(picnic_items.get('cups', 0)) + ' cups.'"
   ]
  },
  {
   "cell_type": "code",
   "execution_count": 37,
   "metadata": {},
   "outputs": [
    {
     "data": {
      "text/plain": [
       "'I am bringing 0 cups.'"
      ]
     },
     "execution_count": 37,
     "metadata": {},
     "output_type": "execute_result"
    }
   ],
   "source": [
    "'I am bringing ' + str(picnic_items.get('eggs', 0)) + ' cups.'"
   ]
  },
  {
   "cell_type": "code",
   "execution_count": 40,
   "metadata": {},
   "outputs": [
    {
     "ename": "KeyError",
     "evalue": "'eggs'",
     "output_type": "error",
     "traceback": [
      "\u001b[1;31m---------------------------------------------------------------------------\u001b[0m",
      "\u001b[1;31mKeyError\u001b[0m                                  Traceback (most recent call last)",
      "\u001b[1;32m<ipython-input-40-eb3409f27c5e>\u001b[0m in \u001b[0;36m<module>\u001b[1;34m()\u001b[0m\n\u001b[0;32m      1\u001b[0m \u001b[1;31m#get()関数をつかわないとエラーになる\u001b[0m\u001b[1;33m\u001b[0m\u001b[1;33m\u001b[0m\u001b[0m\n\u001b[1;32m----> 2\u001b[1;33m \u001b[1;34m'I am bringing '\u001b[0m \u001b[1;33m+\u001b[0m \u001b[0mstr\u001b[0m\u001b[1;33m(\u001b[0m\u001b[0mpicnic_items\u001b[0m\u001b[1;33m[\u001b[0m\u001b[1;34m'eggs'\u001b[0m\u001b[1;33m]\u001b[0m\u001b[1;33m)\u001b[0m \u001b[1;33m+\u001b[0m \u001b[1;34m' cups.'\u001b[0m\u001b[1;33m\u001b[0m\u001b[0m\n\u001b[0m",
      "\u001b[1;31mKeyError\u001b[0m: 'eggs'"
     ]
    }
   ],
   "source": [
    "#get()関数をつかわないとエラーになる\n",
    "'I am bringing ' + str(picnic_items['eggs']) + ' cups.'"
   ]
  },
  {
   "cell_type": "code",
   "execution_count": 41,
   "metadata": {},
   "outputs": [
    {
     "data": {
      "text/plain": [
       "'I am bringing 5 cups.'"
      ]
     },
     "execution_count": 41,
     "metadata": {},
     "output_type": "execute_result"
    }
   ],
   "source": [
    "'I am bringing ' + str(picnic_items['apples']) + ' cups.'"
   ]
  },
  {
   "cell_type": "code",
   "execution_count": 42,
   "metadata": {},
   "outputs": [],
   "source": [
    "# 5.1.5 setdefault()メソッド\n",
    "# キーが未登録の場合にのみ値を登録する\n",
    "# setdefault()を使わない場合\n",
    "spam = {'name': 'pooka', 'age': 5}\n",
    "if 'color' not in spam:\n",
    "    spam['color'] = 'black'"
   ]
  },
  {
   "cell_type": "code",
   "execution_count": 43,
   "metadata": {},
   "outputs": [
    {
     "data": {
      "text/plain": [
       "{'name': 'pooka', 'age': 5, 'color': 'black'}"
      ]
     },
     "execution_count": 43,
     "metadata": {},
     "output_type": "execute_result"
    }
   ],
   "source": [
    "spam"
   ]
  },
  {
   "cell_type": "code",
   "execution_count": 45,
   "metadata": {},
   "outputs": [
    {
     "data": {
      "text/plain": [
       "'fat'"
      ]
     },
     "execution_count": 45,
     "metadata": {},
     "output_type": "execute_result"
    }
   ],
   "source": [
    "#setdefaultをつかって一行で書く\n",
    "spam = {'name': 'pooka', 'age': 5, 'color': 'black'}\n",
    "spam.setdefault('style', 'fat')"
   ]
  },
  {
   "cell_type": "code",
   "execution_count": 46,
   "metadata": {},
   "outputs": [
    {
     "data": {
      "text/plain": [
       "{'name': 'pooka', 'age': 5, 'color': 'black', 'style': 'fat'}"
      ]
     },
     "execution_count": 46,
     "metadata": {},
     "output_type": "execute_result"
    }
   ],
   "source": [
    "spam"
   ]
  },
  {
   "cell_type": "code",
   "execution_count": 47,
   "metadata": {},
   "outputs": [
    {
     "data": {
      "text/plain": [
       "'black'"
      ]
     },
     "execution_count": 47,
     "metadata": {},
     "output_type": "execute_result"
    }
   ],
   "source": [
    "spam.setdefault('color', 'white') #'color'は登録済なので'white'にはならない"
   ]
  },
  {
   "cell_type": "code",
   "execution_count": 48,
   "metadata": {},
   "outputs": [
    {
     "data": {
      "text/plain": [
       "{'name': 'pooka', 'age': 5, 'color': 'black', 'style': 'fat'}"
      ]
     },
     "execution_count": 48,
     "metadata": {},
     "output_type": "execute_result"
    }
   ],
   "source": [
    "spam"
   ]
  },
  {
   "cell_type": "code",
   "execution_count": 50,
   "metadata": {},
   "outputs": [
    {
     "name": "stdout",
     "output_type": "stream",
     "text": [
      "{'I': 1, 't': 6, ' ': 13, 'w': 2, 'a': 4, 's': 3, 'b': 1, 'r': 5, 'i': 6, 'g': 2, 'h': 3, 'c': 3, 'o': 2, 'l': 3, 'd': 3, 'y': 1, 'n': 4, 'A': 1, 'p': 1, ',': 1, 'e': 5, 'k': 2, '.': 1}\n"
     ]
    }
   ],
   "source": [
    "#文字列中の文字の出現回数をカウントするプログラム\n",
    "message = 'It was a bright cold day in April, and the clocks were striking thirteen.'\n",
    "count = {}\n",
    "\n",
    "for character in message:\n",
    "    count.setdefault(character, 0)\n",
    "    count[character] = count[character] + 1\n",
    "\n",
    "print(count)"
   ]
  },
  {
   "cell_type": "code",
   "execution_count": null,
   "metadata": {},
   "outputs": [],
   "source": []
  }
 ],
 "metadata": {
  "kernelspec": {
   "display_name": "Python 3",
   "language": "python",
   "name": "python3"
  },
  "language_info": {
   "codemirror_mode": {
    "name": "ipython",
    "version": 3
   },
   "file_extension": ".py",
   "mimetype": "text/x-python",
   "name": "python",
   "nbconvert_exporter": "python",
   "pygments_lexer": "ipython3",
   "version": "3.6.5"
  }
 },
 "nbformat": 4,
 "nbformat_minor": 2
}
