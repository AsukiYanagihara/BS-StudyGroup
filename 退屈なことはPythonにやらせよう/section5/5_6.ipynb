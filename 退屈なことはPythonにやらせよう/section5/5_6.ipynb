{
 "cells": [
  {
   "cell_type": "code",
   "execution_count": 22,
   "metadata": {},
   "outputs": [],
   "source": [
    "# -*- coding:utf-8 -*-"
   ]
  },
  {
   "cell_type": "code",
   "execution_count": null,
   "metadata": {},
   "outputs": [],
   "source": [
    "\"\"\"\n",
    "退屈なことはPythonにやらせよう\n",
    "5.6.1 ファンタジーゲームの持ち物リスト\n",
    "持ち物リストを引数とし、持ち物をすべて表示するprogramをつくる\n",
    "\"\"\""
   ]
  },
  {
   "cell_type": "code",
   "execution_count": 23,
   "metadata": {},
   "outputs": [],
   "source": [
    "stuff = {'ロープ': 1, 'たいまつ': 6, '金貨': 42, '手裏剣': 1, '矢': 12}"
   ]
  },
  {
   "cell_type": "code",
   "execution_count": null,
   "metadata": {},
   "outputs": [],
   "source": [
    "\"\"\"\n",
    "def display_inventory(iventory):\n",
    "    print(\"持ち物リスト:\")\n",
    "    item_total = 0\n",
    "    for k, v iventory.items():\n",
    "        #ここにコードを書きます\n",
    "    print('アイテム総数: ' + str(item_total))\n",
    "\"\"\""
   ]
  },
  {
   "cell_type": "code",
   "execution_count": 32,
   "metadata": {},
   "outputs": [],
   "source": [
    "def display_inventory(inventory):\n",
    "    print(\"持ち物リスト:\")\n",
    "    item_total = 0\n",
    "    for k, v in inventory.items():\n",
    "        print(str(v) + ' ' + k)\n",
    "        item_total = item_total + v\n",
    "    print(\"アイテム総数: \" + str(item_total))"
   ]
  },
  {
   "cell_type": "code",
   "execution_count": 33,
   "metadata": {},
   "outputs": [
    {
     "name": "stdout",
     "output_type": "stream",
     "text": [
      "持ち物リスト:\n",
      "1 ロープ\n",
      "6 たいまつ\n",
      "42 金貨\n",
      "1 手裏剣\n",
      "12 矢\n",
      "アイテム総数: 62\n"
     ]
    }
   ],
   "source": [
    "display_inventory(stuff)"
   ]
  },
  {
   "cell_type": "code",
   "execution_count": 34,
   "metadata": {},
   "outputs": [],
   "source": [
    "#5.6.2 持ち物リスト用にリストから辞書に移す関数\n",
    "dragon_loot = ['金貨', '手裏剣', '金貨', '金貨', 'ルビー']"
   ]
  },
  {
   "cell_type": "code",
   "execution_count": 41,
   "metadata": {},
   "outputs": [
    {
     "name": "stdout",
     "output_type": "stream",
     "text": [
      "持ち物リスト:\n",
      "45 金貨\n",
      "1 ロープ\n",
      "1 手裏剣\n",
      "1 ルビー\n",
      "アイテム総数: 48\n"
     ]
    }
   ],
   "source": [
    "# 持ち物リストにアイテムを追加する関数\n",
    "def add_to_inventory(inventory, added_items):#inventoryはプレイヤーの持ち物リスト, added_itemsは例えばdragon_loot\n",
    "    for item in added_items:\n",
    "        inventory.setdefault(item, 0)\n",
    "        inventory[item] += 1\n",
    "    return inventory\n",
    "    \n",
    "inv = {'金貨': 42, 'ロープ': 1}\n",
    "dragon_loot = ['金貨', '手裏剣', '金貨', '金貨', 'ルビー']\n",
    "inv = add_to_inventory(inv, dragon_loot)\n",
    "display_inventory(inv)\n",
    "\n",
    "    #inventoryはプレイヤーの持ち物リスト, added_itemsは例えばdragon_loot  \n",
    "    "
   ]
  },
  {
   "cell_type": "code",
   "execution_count": null,
   "metadata": {},
   "outputs": [],
   "source": []
  }
 ],
 "metadata": {
  "kernelspec": {
   "display_name": "Python 3",
   "language": "python",
   "name": "python3"
  },
  "language_info": {
   "codemirror_mode": {
    "name": "ipython",
    "version": 3
   },
   "file_extension": ".py",
   "mimetype": "text/x-python",
   "name": "python",
   "nbconvert_exporter": "python",
   "pygments_lexer": "ipython3",
   "version": "3.6.5"
  }
 },
 "nbformat": 4,
 "nbformat_minor": 2
}
