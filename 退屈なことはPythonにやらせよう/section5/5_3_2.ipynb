{
 "cells": [
  {
   "cell_type": "code",
   "execution_count": null,
   "metadata": {},
   "outputs": [],
   "source": [
    "# coding: utf-8"
   ]
  },
  {
   "cell_type": "code",
   "execution_count": null,
   "metadata": {},
   "outputs": [],
   "source": [
    "\"\"\"\n",
    "退屈なことはPythonにやらせよう\n",
    "5.3 データ構造を用いて実世界の物体をモデル化する\n",
    "5.3.2 辞書とリストの入れ子\n",
    "\"\"\""
   ]
  },
  {
   "cell_type": "code",
   "execution_count": 5,
   "metadata": {},
   "outputs": [
    {
     "name": "stdout",
     "output_type": "stream",
     "text": [
      "持ち物の数\n",
      " - Apple 7\n",
      " - cop 3\n",
      " - cake 0\n",
      " - hamsand 3\n",
      " - Apple pie 1\n"
     ]
    }
   ],
   "source": [
    "#辞書を含む辞書\n",
    "all_guests={'Alice': {'Apple': 5, 'snack': 12},\n",
    "            'Bob': {'hamsand': 3, 'Apple': 2},\n",
    "            'Ceder': {'cop': 3, 'Apple pie': 1}}\n",
    "\n",
    "def total_brought(guests, item):\n",
    "    num_brought = 0\n",
    "    for k, v in guests.items(): #for ループによってguestsの中のキー・バリュー・ペアを順にたどる\n",
    "        num_brought = num_brought + v.get(item, 0) #ループの中では参加者の名前がkに、その参加者の辞書がvに代入される\n",
    "                                                   #この辞書がパラメータitemをキーとして持てば、その値をnum_brougtに足し合わせる\n",
    "    return num_brought\n",
    "\n",
    "print('持ち物の数')\n",
    "print(' - Apple ' + str(total_brought(all_guests, 'Apple')))\n",
    "print(' - cop ' + str(total_brought(all_guests, 'cop')))\n",
    "print(' - cake ' + str(total_brought(all_guests, 'cake')))\n",
    "print(' - hamsand ' + str(total_brought(all_guests, 'hamsand')))\n",
    "print(' - Apple pie ' + str(total_brought(all_guests, 'Apple pie')))"
   ]
  },
  {
   "cell_type": "code",
   "execution_count": null,
   "metadata": {},
   "outputs": [],
   "source": []
  }
 ],
 "metadata": {
  "kernelspec": {
   "display_name": "Python 3",
   "language": "python",
   "name": "python3"
  },
  "language_info": {
   "codemirror_mode": {
    "name": "ipython",
    "version": 3
   },
   "file_extension": ".py",
   "mimetype": "text/x-python",
   "name": "python",
   "nbconvert_exporter": "python",
   "pygments_lexer": "ipython3",
   "version": "3.6.5"
  }
 },
 "nbformat": 4,
 "nbformat_minor": 2
}
