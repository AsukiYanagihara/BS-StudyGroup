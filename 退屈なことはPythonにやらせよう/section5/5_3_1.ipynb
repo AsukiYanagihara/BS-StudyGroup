{
 "cells": [
  {
   "cell_type": "code",
   "execution_count": null,
   "metadata": {},
   "outputs": [],
   "source": [
    "# coding: utf-8"
   ]
  },
  {
   "cell_type": "code",
   "execution_count": null,
   "metadata": {},
   "outputs": [],
   "source": [
    "\"\"\"\n",
    "退屈なことはPythonにやらせよう\n",
    "5.3 データ構造を用いて実世界の物体をモデル化する\n",
    "5.3.1 三目並べのボード\n",
    "\"\"\""
   ]
  },
  {
   "cell_type": "code",
   "execution_count": 6,
   "metadata": {},
   "outputs": [],
   "source": [
    "#マス目のデータをつくる\n",
    "the_board = {'top-L': ' ','top-M': ' ', 'top-R': ' ',\n",
    "            'mid-L': ' ','mid-M': ' ', 'mid-R': ' ',\n",
    "            'low-L': ' ','low-M': ' ', 'low-R': ' '}"
   ]
  },
  {
   "cell_type": "code",
   "execution_count": 4,
   "metadata": {},
   "outputs": [],
   "source": [
    "#ボードの辞書を表示する関数\n",
    "def print_board(board):\n",
    "    print(board['top-L'] + '|' + board['top-M'] + '|' + board['top-R'])\n",
    "    print('-+-+-')\n",
    "    print(board['mid-L'] + '|' + board['mid-M'] + '|' + board['mid-R'])\n",
    "    print('-+-+-')\n",
    "    print(board['low-L'] + '|' + board['low-M'] + '|' + board['low-R'])"
   ]
  },
  {
   "cell_type": "code",
   "execution_count": 7,
   "metadata": {},
   "outputs": [
    {
     "name": "stdout",
     "output_type": "stream",
     "text": [
      " | | \n",
      "-+-+-\n",
      " | | \n",
      "-+-+-\n",
      " | | \n"
     ]
    }
   ],
   "source": [
    "print_board(the_board)"
   ]
  },
  {
   "cell_type": "code",
   "execution_count": 8,
   "metadata": {},
   "outputs": [],
   "source": [
    "the_board = {'top-L': 'O','top-M': 'O', 'top-R': 'O',\n",
    "            'mid-L': 'X','mid-M': 'X', 'mid-R': ' ',\n",
    "            'low-L': ' ','low-M': ' ', 'low-R': 'X'}"
   ]
  },
  {
   "cell_type": "code",
   "execution_count": 9,
   "metadata": {},
   "outputs": [
    {
     "name": "stdout",
     "output_type": "stream",
     "text": [
      "O|O|O\n",
      "-+-+-\n",
      "X|X| \n",
      "-+-+-\n",
      " | |X\n"
     ]
    }
   ],
   "source": [
    "print_board(the_board)"
   ]
  },
  {
   "cell_type": "code",
   "execution_count": null,
   "metadata": {},
   "outputs": [
    {
     "name": "stdout",
     "output_type": "stream",
     "text": [
      " | | \n",
      "-+-+-\n",
      " | | \n",
      "-+-+-\n",
      " | | \n",
      "Xの番です。どこにうつの？\n",
      " | | \n",
      "-+-+-\n",
      " |X| \n",
      "-+-+-\n",
      " | | \n",
      "Oの番です。どこにうつの？\n",
      " | | \n",
      "-+-+-\n",
      " |X| \n",
      "-+-+-\n",
      "O| | \n",
      "Xの番です。どこにうつの？\n",
      " | |X\n",
      "-+-+-\n",
      " |X| \n",
      "-+-+-\n",
      "O| | \n",
      "Oの番です。どこにうつの？\n",
      "O| |X\n",
      "-+-+-\n",
      " |X| \n",
      "-+-+-\n",
      "O| | \n",
      "Xの番です。どこにうつの？\n",
      "O| |X\n",
      "-+-+-\n",
      " |X| \n",
      "-+-+-\n",
      "O| | \n",
      "Oの番です。どこにうつの？\n",
      "O| |X\n",
      "-+-+-\n",
      " |X| \n",
      "-+-+-\n",
      "O| | \n",
      "Xの番です。どこにうつの？\n",
      "O| |X\n",
      "-+-+-\n",
      " |X| \n",
      "-+-+-\n",
      "O| | \n",
      "Oの番です。どこにうつの？\n",
      "O| |X\n",
      "-+-+-\n",
      " |X| \n",
      "-+-+-\n",
      "O| | \n",
      "Xの番です。どこにうつの？\n"
     ]
    }
   ],
   "source": [
    "#プレイヤーにコマの動きを入力してもらうコードをつくる\n",
    "the_board = {'top-L': ' ','top-M': ' ', 'top-R': ' ',\n",
    "            'mid-L': ' ','mid-M': ' ', 'mid-R': ' ',\n",
    "            'low-L': ' ','low-M': ' ', 'low-R': ' '}\n",
    "\n",
    "turn ='X'\n",
    "for i in range(9):\n",
    "    print_board(the_board) #コマを打つたびにまずボードを表示\n",
    "    print(turn +'の番です。どこにうつの？')\n",
    "    move = input() #プレイヤーが打つ場所を指定\n",
    "    the_board[move] = turn #ゲームボードの更新\n",
    "    if turn == 'X': #次にコマをうつプレイヤーを交換\n",
    "        turn = 'O'\n",
    "    else:\n",
    "        turn = 'X'\n",
    "\n",
    "print_board(the_board)"
   ]
  },
  {
   "cell_type": "code",
   "execution_count": null,
   "metadata": {},
   "outputs": [],
   "source": []
  }
 ],
 "metadata": {
  "kernelspec": {
   "display_name": "Python 3",
   "language": "python",
   "name": "python3"
  },
  "language_info": {
   "codemirror_mode": {
    "name": "ipython",
    "version": 3
   },
   "file_extension": ".py",
   "mimetype": "text/x-python",
   "name": "python",
   "nbconvert_exporter": "python",
   "pygments_lexer": "ipython3",
   "version": "3.6.5"
  }
 },
 "nbformat": 4,
 "nbformat_minor": 2
}
