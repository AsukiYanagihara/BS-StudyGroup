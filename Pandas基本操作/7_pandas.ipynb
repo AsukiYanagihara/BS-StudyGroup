{
 "cells": [
  {
   "cell_type": "code",
   "execution_count": 4,
   "metadata": {},
   "outputs": [],
   "source": [
    "# coding: utf-8"
   ]
  },
  {
   "cell_type": "code",
   "execution_count": null,
   "metadata": {},
   "outputs": [],
   "source": [
    "\"\"\"\n",
    "https://qiita.com/ysdyt/items/9ccca82fc5b504e7913a\n",
    "⑦可視化\n",
    "ここではpandsの標準plot機能をつかって簡単に書いちゃう。\n",
    "(ただしライブラリとしてmatplotlibは使用する)\n",
    "#まだ　⑧変数の前処理\n",
    "#まだ　さすがにめんどいのでそのまま\n",
    "\"\"\""
   ]
  },
  {
   "cell_type": "code",
   "execution_count": null,
   "metadata": {},
   "outputs": [],
   "source": [
    "\"\"\"\n",
    "df.plot() #グラフ作成　matplotlibもう少し複雑にしたいような気もする\n",
    "df.corr()　#相関係数(行列)を出す。\n",
    "df.pivot() #Pivot Table エクセルより数倍楽ですごい使えるので練習したい。少しcodingが複雑。\n",
    "\"\"\""
   ]
  },
  {
   "cell_type": "code",
   "execution_count": null,
   "metadata": {},
   "outputs": [],
   "source": [
    "# ToDO\n",
    "#  datetimeをindexに置き換える。\n",
    "#  datetimeのdtypeを確認。必要であればdtypeをdatetimeに変更する。"
   ]
  },
  {
   "cell_type": "code",
   "execution_count": 5,
   "metadata": {},
   "outputs": [],
   "source": [
    "import pandas as pd"
   ]
  },
  {
   "cell_type": "code",
   "execution_count": 6,
   "metadata": {},
   "outputs": [],
   "source": [
    "df = pd.read_csv('lunch_box_5.csv')"
   ]
  },
  {
   "cell_type": "code",
   "execution_count": 7,
   "metadata": {},
   "outputs": [
    {
     "data": {
      "text/html": [
       "<div>\n",
       "<style scoped>\n",
       "    .dataframe tbody tr th:only-of-type {\n",
       "        vertical-align: middle;\n",
       "    }\n",
       "\n",
       "    .dataframe tbody tr th {\n",
       "        vertical-align: top;\n",
       "    }\n",
       "\n",
       "    .dataframe thead th {\n",
       "        text-align: right;\n",
       "    }\n",
       "</style>\n",
       "<table border=\"1\" class=\"dataframe\">\n",
       "  <thead>\n",
       "    <tr style=\"text-align: right;\">\n",
       "      <th></th>\n",
       "      <th>Unnamed: 0</th>\n",
       "      <th>sales</th>\n",
       "      <th>week</th>\n",
       "      <th>soldout</th>\n",
       "      <th>name</th>\n",
       "      <th>kcal</th>\n",
       "      <th>event</th>\n",
       "      <th>payday</th>\n",
       "      <th>weather</th>\n",
       "      <th>precipitation</th>\n",
       "      <th>temperature</th>\n",
       "      <th>month</th>\n",
       "      <th>days</th>\n",
       "      <th>period</th>\n",
       "      <th>temperature_diff</th>\n",
       "      <th>temperature_rolling_mean</th>\n",
       "      <th>temperature_pct_change</th>\n",
       "    </tr>\n",
       "    <tr>\n",
       "      <th>datetime</th>\n",
       "      <th></th>\n",
       "      <th></th>\n",
       "      <th></th>\n",
       "      <th></th>\n",
       "      <th></th>\n",
       "      <th></th>\n",
       "      <th></th>\n",
       "      <th></th>\n",
       "      <th></th>\n",
       "      <th></th>\n",
       "      <th></th>\n",
       "      <th></th>\n",
       "      <th></th>\n",
       "      <th></th>\n",
       "      <th></th>\n",
       "      <th></th>\n",
       "      <th></th>\n",
       "    </tr>\n",
       "  </thead>\n",
       "  <tbody>\n",
       "    <tr>\n",
       "      <th>2014-01-09</th>\n",
       "      <td>30</td>\n",
       "      <td>129</td>\n",
       "      <td>木</td>\n",
       "      <td>1</td>\n",
       "      <td>鶏チリソース</td>\n",
       "      <td>435.0</td>\n",
       "      <td>NaN</td>\n",
       "      <td>0.0</td>\n",
       "      <td>曇</td>\n",
       "      <td>0.0</td>\n",
       "      <td>10.9</td>\n",
       "      <td>1</td>\n",
       "      <td>9</td>\n",
       "      <td>上旬</td>\n",
       "      <td>1.1</td>\n",
       "      <td>9.333333</td>\n",
       "      <td>0.112245</td>\n",
       "    </tr>\n",
       "    <tr>\n",
       "      <th>2014-01-10</th>\n",
       "      <td>31</td>\n",
       "      <td>87</td>\n",
       "      <td>金</td>\n",
       "      <td>0</td>\n",
       "      <td>手作りロースカツ</td>\n",
       "      <td>440.0</td>\n",
       "      <td>NaN</td>\n",
       "      <td>1.0</td>\n",
       "      <td>快晴</td>\n",
       "      <td>0.0</td>\n",
       "      <td>5.1</td>\n",
       "      <td>1</td>\n",
       "      <td>10</td>\n",
       "      <td>上旬</td>\n",
       "      <td>-5.8</td>\n",
       "      <td>8.600000</td>\n",
       "      <td>-0.532110</td>\n",
       "    </tr>\n",
       "    <tr>\n",
       "      <th>2014-01-14</th>\n",
       "      <td>32</td>\n",
       "      <td>129</td>\n",
       "      <td>火</td>\n",
       "      <td>1</td>\n",
       "      <td>鶏の照り焼きマスタード</td>\n",
       "      <td>376.0</td>\n",
       "      <td>NaN</td>\n",
       "      <td>0.0</td>\n",
       "      <td>晴れ</td>\n",
       "      <td>0.0</td>\n",
       "      <td>5.8</td>\n",
       "      <td>1</td>\n",
       "      <td>14</td>\n",
       "      <td>中旬</td>\n",
       "      <td>0.7</td>\n",
       "      <td>7.266667</td>\n",
       "      <td>0.137255</td>\n",
       "    </tr>\n",
       "    <tr>\n",
       "      <th>2014-01-15</th>\n",
       "      <td>33</td>\n",
       "      <td>134</td>\n",
       "      <td>水</td>\n",
       "      <td>0</td>\n",
       "      <td>さんま辛味焼</td>\n",
       "      <td>450.0</td>\n",
       "      <td>NaN</td>\n",
       "      <td>0.0</td>\n",
       "      <td>曇</td>\n",
       "      <td>0.0</td>\n",
       "      <td>2.9</td>\n",
       "      <td>1</td>\n",
       "      <td>15</td>\n",
       "      <td>中旬</td>\n",
       "      <td>-2.9</td>\n",
       "      <td>4.600000</td>\n",
       "      <td>-0.500000</td>\n",
       "    </tr>\n",
       "    <tr>\n",
       "      <th>2014-01-16</th>\n",
       "      <td>34</td>\n",
       "      <td>107</td>\n",
       "      <td>木</td>\n",
       "      <td>0</td>\n",
       "      <td>カレイ唐揚げ野菜あんかけ</td>\n",
       "      <td>415.0</td>\n",
       "      <td>NaN</td>\n",
       "      <td>0.0</td>\n",
       "      <td>快晴</td>\n",
       "      <td>0.0</td>\n",
       "      <td>7.0</td>\n",
       "      <td>1</td>\n",
       "      <td>16</td>\n",
       "      <td>中旬</td>\n",
       "      <td>4.1</td>\n",
       "      <td>5.233333</td>\n",
       "      <td>1.413793</td>\n",
       "    </tr>\n",
       "  </tbody>\n",
       "</table>\n",
       "</div>"
      ],
      "text/plain": [
       "            Unnamed: 0  sales week  soldout          name   kcal event  \\\n",
       "datetime                                                                 \n",
       "2014-01-09          30    129    木        1        鶏チリソース  435.0   NaN   \n",
       "2014-01-10          31     87    金        0      手作りロースカツ  440.0   NaN   \n",
       "2014-01-14          32    129    火        1   鶏の照り焼きマスタード  376.0   NaN   \n",
       "2014-01-15          33    134    水        0        さんま辛味焼  450.0   NaN   \n",
       "2014-01-16          34    107    木        0  カレイ唐揚げ野菜あんかけ  415.0   NaN   \n",
       "\n",
       "            payday weather  precipitation  temperature  month  days period  \\\n",
       "datetime                                                                     \n",
       "2014-01-09     0.0       曇            0.0         10.9      1     9     上旬   \n",
       "2014-01-10     1.0      快晴            0.0          5.1      1    10     上旬   \n",
       "2014-01-14     0.0      晴れ            0.0          5.8      1    14     中旬   \n",
       "2014-01-15     0.0       曇            0.0          2.9      1    15     中旬   \n",
       "2014-01-16     0.0      快晴            0.0          7.0      1    16     中旬   \n",
       "\n",
       "            temperature_diff  temperature_rolling_mean  temperature_pct_change  \n",
       "datetime                                                                        \n",
       "2014-01-09               1.1                  9.333333                0.112245  \n",
       "2014-01-10              -5.8                  8.600000               -0.532110  \n",
       "2014-01-14               0.7                  7.266667                0.137255  \n",
       "2014-01-15              -2.9                  4.600000               -0.500000  \n",
       "2014-01-16               4.1                  5.233333                1.413793  "
      ]
     },
     "execution_count": 7,
     "metadata": {},
     "output_type": "execute_result"
    }
   ],
   "source": [
    "df.set_index('datetime', inplace=True)\n",
    "df.head()"
   ]
  },
  {
   "cell_type": "code",
   "execution_count": 8,
   "metadata": {},
   "outputs": [
    {
     "data": {
      "text/plain": [
       "DatetimeIndex(['2014-01-09', '2014-01-10', '2014-01-14', '2014-01-15',\n",
       "               '2014-01-16', '2014-01-17', '2014-01-20', '2014-01-21',\n",
       "               '2014-01-22', '2014-01-23',\n",
       "               ...\n",
       "               '2014-09-11', '2014-09-16', '2014-09-17', '2014-09-18',\n",
       "               '2014-09-19', '2014-09-22', '2014-09-24', '2014-09-25',\n",
       "               '2014-09-29', '2014-09-30'],\n",
       "              dtype='datetime64[ns]', name='datetime', length=164, freq=None)"
      ]
     },
     "execution_count": 8,
     "metadata": {},
     "output_type": "execute_result"
    }
   ],
   "source": [
    "df.index = pd.to_datetime(df.index, format='%Y-%m-%d')\n",
    "df.index"
   ]
  },
  {
   "cell_type": "code",
   "execution_count": 9,
   "metadata": {},
   "outputs": [],
   "source": [
    "# matplotlibのインポート（jupyter notebook内でmatplotlibの図を描写するときのおまじない的）\n",
    "# Labでは不要　#%matplotlib inlines　#% matplotlib inline」は、Jupyter Notebookで、ノートブック上にグラフを描画する際に指定する記述です。\n",
    "import matplotlib.pyplot as plt\n",
    "\n",
    "#おまじない 詳細はhttps://qiita.com/eriksoon/items/b93030ba4dc686ecfbba\n",
    "plt.style.use('ggplot')"
   ]
  },
  {
   "cell_type": "code",
   "execution_count": null,
   "metadata": {},
   "outputs": [],
   "source": [
    "\"\"\"\n",
    "#日本語フォントの設定　フォントを落としてないので意味なし\n",
    "from matplotlib.font_manager import FontProperties\n",
    "font_path = ''  #DLしたフォントのパスを指定\n",
    "font_prop = FontProperties(fname=font_path)\n",
    "\"\"\""
   ]
  },
  {
   "cell_type": "code",
   "execution_count": 10,
   "metadata": {},
   "outputs": [
    {
     "data": {
      "text/plain": [
       "<matplotlib.axes._subplots.AxesSubplot at 0x209ebe09da0>"
      ]
     },
     "execution_count": 10,
     "metadata": {},
     "output_type": "execute_result"
    },
    {
     "data": {
      "image/png": "[encoded data removed]",
      "text/plain": [
       "<Figure size 432x288 with 1 Axes>"
      ]
     },
     "metadata": {},
     "output_type": "display_data"
    }
   ],
   "source": [
    "#超簡単な折れ線グラフ\n",
    "df['sales'].plot()"
   ]
  },
  {
   "cell_type": "code",
   "execution_count": 14,
   "metadata": {},
   "outputs": [
    {
     "data": {
      "text/plain": [
       "Text(0.5,1,'glaph about temperature changes')"
      ]
     },
     "execution_count": 14,
     "metadata": {},
     "output_type": "execute_result"
    },
    {
     "data": {
      "image/png": "[encoded data removed]",
      "text/plain": [
       "<Figure size 1152x288 with 1 Axes>"
      ]
     },
     "metadata": {},
     "output_type": "display_data"
    }
   ],
   "source": [
    "#少しだけ情報量の多い折れ線グラフ\n",
    "df.plot(y=['temperature', 'temperature_rolling_mean', 'temperature_pct_change'], figsize=(16,4), alpha=0.5) #xがindexである場合は明記しなくてOK\n",
    "#plt.title('気温変化に関する図')　日本語フォントをimportしていない\n",
    "plt.title('glaph about temperature changes')\n",
    "# alpha=0.5ってなんだっけ感"
   ]
  },
  {
   "cell_type": "code",
   "execution_count": 17,
   "metadata": {},
   "outputs": [
    {
     "data": {
      "text/plain": [
       "<matplotlib.axes._subplots.AxesSubplot at 0x209ec7adc50>"
      ]
     },
     "execution_count": 17,
     "metadata": {},
     "output_type": "execute_result"
    },
    {
     "data": {
      "image/png": "[encoded data removed]",
      "text/plain": [
       "<Figure size 1152x288 with 1 Axes>"
      ]
     },
     "metadata": {},
     "output_type": "display_data"
    }
   ],
   "source": [
    "#ヒストグラム\n",
    "df.plot(kind='hist', y='sales', bins=10, figsize=(16,4), alpha=0.5)\n",
    "#alphaは透明度かな"
   ]
  },
  {
   "cell_type": "code",
   "execution_count": 18,
   "metadata": {},
   "outputs": [
    {
     "data": {
      "text/plain": [
       "<matplotlib.axes._subplots.AxesSubplot at 0x209ec7e59b0>"
      ]
     },
     "execution_count": 18,
     "metadata": {},
     "output_type": "execute_result"
    },
    {
     "data": {
      "image/png": "[encoded data removed]",
      "text/plain": [
       "<Figure size 432x288 with 1 Axes>"
      ]
     },
     "metadata": {},
     "output_type": "display_data"
    }
   ],
   "source": [
    "# 散布図\n",
    "df.plot(kind='scatter', x='kcal', y='sales')"
   ]
  },
  {
   "cell_type": "code",
   "execution_count": 21,
   "metadata": {},
   "outputs": [
    {
     "data": {
      "text/html": [
       "<div>\n",
       "<style scoped>\n",
       "    .dataframe tbody tr th:only-of-type {\n",
       "        vertical-align: middle;\n",
       "    }\n",
       "\n",
       "    .dataframe tbody tr th {\n",
       "        vertical-align: top;\n",
       "    }\n",
       "\n",
       "    .dataframe thead th {\n",
       "        text-align: right;\n",
       "    }\n",
       "</style>\n",
       "<table border=\"1\" class=\"dataframe\">\n",
       "  <thead>\n",
       "    <tr style=\"text-align: right;\">\n",
       "      <th></th>\n",
       "      <th>kcal</th>\n",
       "      <th>sales</th>\n",
       "    </tr>\n",
       "  </thead>\n",
       "  <tbody>\n",
       "    <tr>\n",
       "      <th>kcal</th>\n",
       "      <td>1.000000</td>\n",
       "      <td>0.129521</td>\n",
       "    </tr>\n",
       "    <tr>\n",
       "      <th>sales</th>\n",
       "      <td>0.129521</td>\n",
       "      <td>1.000000</td>\n",
       "    </tr>\n",
       "  </tbody>\n",
       "</table>\n",
       "</div>"
      ],
      "text/plain": [
       "           kcal     sales\n",
       "kcal   1.000000  0.129521\n",
       "sales  0.129521  1.000000"
      ]
     },
     "execution_count": 21,
     "metadata": {},
     "output_type": "execute_result"
    }
   ],
   "source": [
    "# 相関係数は簡単に出せる\n",
    "df[['kcal', 'sales']].corr()"
   ]
  },
  {
   "cell_type": "code",
   "execution_count": 27,
   "metadata": {},
   "outputs": [
    {
     "data": {
      "text/html": [
       "<div>\n",
       "<style scoped>\n",
       "    .dataframe tbody tr th:only-of-type {\n",
       "        vertical-align: middle;\n",
       "    }\n",
       "\n",
       "    .dataframe tbody tr th {\n",
       "        vertical-align: top;\n",
       "    }\n",
       "\n",
       "    .dataframe thead th {\n",
       "        text-align: right;\n",
       "    }\n",
       "</style>\n",
       "<table border=\"1\" class=\"dataframe\">\n",
       "  <thead>\n",
       "    <tr style=\"text-align: right;\">\n",
       "      <th>period</th>\n",
       "      <th>上旬</th>\n",
       "      <th>下旬</th>\n",
       "      <th>中旬</th>\n",
       "    </tr>\n",
       "    <tr>\n",
       "      <th>month</th>\n",
       "      <th></th>\n",
       "      <th></th>\n",
       "      <th></th>\n",
       "    </tr>\n",
       "  </thead>\n",
       "  <tbody>\n",
       "    <tr>\n",
       "      <th>1</th>\n",
       "      <td>216</td>\n",
       "      <td>1018</td>\n",
       "      <td>581</td>\n",
       "    </tr>\n",
       "    <tr>\n",
       "      <th>2</th>\n",
       "      <td>725</td>\n",
       "      <td>609</td>\n",
       "      <td>715</td>\n",
       "    </tr>\n",
       "    <tr>\n",
       "      <th>3</th>\n",
       "      <td>614</td>\n",
       "      <td>369</td>\n",
       "      <td>698</td>\n",
       "    </tr>\n",
       "    <tr>\n",
       "      <th>4</th>\n",
       "      <td>792</td>\n",
       "      <td>457</td>\n",
       "      <td>344</td>\n",
       "    </tr>\n",
       "    <tr>\n",
       "      <th>5</th>\n",
       "      <td>316</td>\n",
       "      <td>517</td>\n",
       "      <td>406</td>\n",
       "    </tr>\n",
       "    <tr>\n",
       "      <th>6</th>\n",
       "      <td>467</td>\n",
       "      <td>311</td>\n",
       "      <td>440</td>\n",
       "    </tr>\n",
       "    <tr>\n",
       "      <th>7</th>\n",
       "      <td>460</td>\n",
       "      <td>406</td>\n",
       "      <td>277</td>\n",
       "    </tr>\n",
       "    <tr>\n",
       "      <th>8</th>\n",
       "      <td>288</td>\n",
       "      <td>334</td>\n",
       "      <td>250</td>\n",
       "    </tr>\n",
       "    <tr>\n",
       "      <th>9</th>\n",
       "      <td>468</td>\n",
       "      <td>234</td>\n",
       "      <td>249</td>\n",
       "    </tr>\n",
       "  </tbody>\n",
       "</table>\n",
       "</div>"
      ],
      "text/plain": [
       "period   上旬    下旬   中旬\n",
       "month                 \n",
       "1       216  1018  581\n",
       "2       725   609  715\n",
       "3       614   369  698\n",
       "4       792   457  344\n",
       "5       316   517  406\n",
       "6       467   311  440\n",
       "7       460   406  277\n",
       "8       288   334  250\n",
       "9       468   234  249"
      ]
     },
     "execution_count": 27,
     "metadata": {},
     "output_type": "execute_result"
    }
   ],
   "source": [
    "# やや複雑な集計　\n",
    "# 例：　月別・期間別の売り上げ個数の状況を可視化する。\n",
    "monthly_df = pd.DataFrame(df.groupby(['month', 'period'])['sales'].sum())\n",
    "pivot_monthly_df = monthly_df.reset_index().pivot(index='month', columns='period', values='sales')\n",
    "pivot_monthly_df"
   ]
  },
  {
   "cell_type": "code",
   "execution_count": 29,
   "metadata": {},
   "outputs": [
    {
     "data": {
      "text/html": [
       "<div>\n",
       "<style scoped>\n",
       "    .dataframe tbody tr th:only-of-type {\n",
       "        vertical-align: middle;\n",
       "    }\n",
       "\n",
       "    .dataframe tbody tr th {\n",
       "        vertical-align: top;\n",
       "    }\n",
       "\n",
       "    .dataframe thead th {\n",
       "        text-align: right;\n",
       "    }\n",
       "</style>\n",
       "<table border=\"1\" class=\"dataframe\">\n",
       "  <thead>\n",
       "    <tr style=\"text-align: right;\">\n",
       "      <th></th>\n",
       "      <th></th>\n",
       "      <th>sales</th>\n",
       "    </tr>\n",
       "    <tr>\n",
       "      <th>month</th>\n",
       "      <th>period</th>\n",
       "      <th></th>\n",
       "    </tr>\n",
       "  </thead>\n",
       "  <tbody>\n",
       "    <tr>\n",
       "      <th rowspan=\"3\" valign=\"top\">1</th>\n",
       "      <th>上旬</th>\n",
       "      <td>216</td>\n",
       "    </tr>\n",
       "    <tr>\n",
       "      <th>下旬</th>\n",
       "      <td>1018</td>\n",
       "    </tr>\n",
       "    <tr>\n",
       "      <th>中旬</th>\n",
       "      <td>581</td>\n",
       "    </tr>\n",
       "    <tr>\n",
       "      <th rowspan=\"3\" valign=\"top\">2</th>\n",
       "      <th>上旬</th>\n",
       "      <td>725</td>\n",
       "    </tr>\n",
       "    <tr>\n",
       "      <th>下旬</th>\n",
       "      <td>609</td>\n",
       "    </tr>\n",
       "    <tr>\n",
       "      <th>中旬</th>\n",
       "      <td>715</td>\n",
       "    </tr>\n",
       "    <tr>\n",
       "      <th rowspan=\"3\" valign=\"top\">3</th>\n",
       "      <th>上旬</th>\n",
       "      <td>614</td>\n",
       "    </tr>\n",
       "    <tr>\n",
       "      <th>下旬</th>\n",
       "      <td>369</td>\n",
       "    </tr>\n",
       "    <tr>\n",
       "      <th>中旬</th>\n",
       "      <td>698</td>\n",
       "    </tr>\n",
       "    <tr>\n",
       "      <th rowspan=\"3\" valign=\"top\">4</th>\n",
       "      <th>上旬</th>\n",
       "      <td>792</td>\n",
       "    </tr>\n",
       "    <tr>\n",
       "      <th>下旬</th>\n",
       "      <td>457</td>\n",
       "    </tr>\n",
       "    <tr>\n",
       "      <th>中旬</th>\n",
       "      <td>344</td>\n",
       "    </tr>\n",
       "    <tr>\n",
       "      <th rowspan=\"3\" valign=\"top\">5</th>\n",
       "      <th>上旬</th>\n",
       "      <td>316</td>\n",
       "    </tr>\n",
       "    <tr>\n",
       "      <th>下旬</th>\n",
       "      <td>517</td>\n",
       "    </tr>\n",
       "    <tr>\n",
       "      <th>中旬</th>\n",
       "      <td>406</td>\n",
       "    </tr>\n",
       "    <tr>\n",
       "      <th rowspan=\"3\" valign=\"top\">6</th>\n",
       "      <th>上旬</th>\n",
       "      <td>467</td>\n",
       "    </tr>\n",
       "    <tr>\n",
       "      <th>下旬</th>\n",
       "      <td>311</td>\n",
       "    </tr>\n",
       "    <tr>\n",
       "      <th>中旬</th>\n",
       "      <td>440</td>\n",
       "    </tr>\n",
       "    <tr>\n",
       "      <th rowspan=\"3\" valign=\"top\">7</th>\n",
       "      <th>上旬</th>\n",
       "      <td>460</td>\n",
       "    </tr>\n",
       "    <tr>\n",
       "      <th>下旬</th>\n",
       "      <td>406</td>\n",
       "    </tr>\n",
       "    <tr>\n",
       "      <th>中旬</th>\n",
       "      <td>277</td>\n",
       "    </tr>\n",
       "    <tr>\n",
       "      <th rowspan=\"3\" valign=\"top\">8</th>\n",
       "      <th>上旬</th>\n",
       "      <td>288</td>\n",
       "    </tr>\n",
       "    <tr>\n",
       "      <th>下旬</th>\n",
       "      <td>334</td>\n",
       "    </tr>\n",
       "    <tr>\n",
       "      <th>中旬</th>\n",
       "      <td>250</td>\n",
       "    </tr>\n",
       "    <tr>\n",
       "      <th rowspan=\"3\" valign=\"top\">9</th>\n",
       "      <th>上旬</th>\n",
       "      <td>468</td>\n",
       "    </tr>\n",
       "    <tr>\n",
       "      <th>下旬</th>\n",
       "      <td>234</td>\n",
       "    </tr>\n",
       "    <tr>\n",
       "      <th>中旬</th>\n",
       "      <td>249</td>\n",
       "    </tr>\n",
       "  </tbody>\n",
       "</table>\n",
       "</div>"
      ],
      "text/plain": [
       "              sales\n",
       "month period       \n",
       "1     上旬        216\n",
       "      下旬       1018\n",
       "      中旬        581\n",
       "2     上旬        725\n",
       "      下旬        609\n",
       "      中旬        715\n",
       "3     上旬        614\n",
       "      下旬        369\n",
       "      中旬        698\n",
       "4     上旬        792\n",
       "      下旬        457\n",
       "      中旬        344\n",
       "5     上旬        316\n",
       "      下旬        517\n",
       "      中旬        406\n",
       "6     上旬        467\n",
       "      下旬        311\n",
       "      中旬        440\n",
       "7     上旬        460\n",
       "      下旬        406\n",
       "      中旬        277\n",
       "8     上旬        288\n",
       "      下旬        334\n",
       "      中旬        250\n",
       "9     上旬        468\n",
       "      下旬        234\n",
       "      中旬        249"
      ]
     },
     "execution_count": 29,
     "metadata": {},
     "output_type": "execute_result"
    }
   ],
   "source": [
    "monthly_df"
   ]
  },
  {
   "cell_type": "code",
   "execution_count": 30,
   "metadata": {},
   "outputs": [
    {
     "data": {
      "text/plain": [
       "Text(0.5,1,'sales')"
      ]
     },
     "execution_count": 30,
     "metadata": {},
     "output_type": "execute_result"
    },
    {
     "data": {
      "image/png": "[encoded data removed]",
      "text/plain": [
       "<Figure size 864x216 with 1 Axes>"
      ]
     },
     "metadata": {},
     "output_type": "display_data"
    }
   ],
   "source": [
    "#棒グラフ\n",
    "pivot_monthly_df.plot(kind='bar', alpha=0.8, figsize=(12,3))\n",
    "plt.title('sales') #上旬・中旬・下旬は文字化け"
   ]
  },
  {
   "cell_type": "code",
   "execution_count": null,
   "metadata": {},
   "outputs": [],
   "source": []
  }
 ],
 "metadata": {
  "kernelspec": {
   "display_name": "Python 3",
   "language": "python",
   "name": "python3"
  },
  "language_info": {
   "codemirror_mode": {
    "name": "ipython",
    "version": 3
   },
   "file_extension": ".py",
   "mimetype": "text/x-python",
   "name": "python",
   "nbconvert_exporter": "python",
   "pygments_lexer": "ipython3",
   "version": "3.6.5"
  }
 },
 "nbformat": 4,
 "nbformat_minor": 2
}
