{
 "cells": [
  {
   "cell_type": "code",
   "execution_count": null,
   "metadata": {},
   "outputs": [],
   "source": [
    "\"\"\"\n",
    "Beef\n",
    "\"\"\""
   ]
  },
  {
   "cell_type": "code",
   "execution_count": 1,
   "metadata": {},
   "outputs": [
    {
     "name": "stderr",
     "output_type": "stream",
     "text": [
      "C:\\Users\\ayana\\Anaconda3\\lib\\site-packages\\matplotlib\\cbook\\deprecation.py:107: MatplotlibDeprecationWarning: Passing one of 'on', 'true', 'off', 'false' as a boolean is deprecated; use an actual boolean (True/False) instead.\n",
      "  warnings.warn(message, mplDeprecation, stacklevel=1)\n"
     ]
    }
   ],
   "source": [
    "import numpy as np\n",
    "import os\n",
    "from matplotlib import pyplot as plt\n",
    "from matplotlib.colors import LinearSegmentedColormap\n",
    "\n",
    "kappa = 1.1e-7         # [m2/s]\n",
    "temp_init = 10.0       # [C]\n",
    "temp_boundary = 100.0  # [C]\n",
    "rmax = 4 * 0.01 * 0.5  # half-diameter [m]\n",
    "a_factor = 0.0         # 0 for slab, 1 for cylinder, 2 for sphere\n",
    "\n",
    "tmax = 100.0 * 1.5 * (rmax / 0.005) ** 2\n",
    "delta_t = 0.01 * (rmax / 0.005) ** 2\n",
    "delta_r = rmax / 25.0\n",
    "nr = int(rmax / delta_r)\n",
    "nstep = int(tmax / delta_t)\n",
    "plot_intvl = 200\n",
    "\n",
    "def main():\n",
    "    os.system(\"mkdir -p img\")\n",
    "    temperature = np.full((nr,), temp_init)\n",
    "    temperature[-1] = temp_boundary  # outer boundary condition\n",
    "\n",
    "    for i in range(nstep):\n",
    "        if (i % plot_intvl == 0):\n",
    "            plot_snap(temperature, i)\n",
    "        dtdt = time_derivative(temperature)\n",
    "        temperature[:] = temperature[:] + delta_t * dtdt[:]\n",
    "\n",
    "    os.system(\"convert -delay 15 -loop 0 ./img/*.png ./img/all.gif\")\n",
    "    os.system(\"rm -f img/*.png\")\n",
    "\n",
    "def time_derivative(temperature):\n",
    "    r = np.linspace(0, rmax, nr, endpoint=True) - delta_r / 2\n",
    "    dtdt = np.empty((nr,))\n",
    "    dtdt[-1] = 0.0     # outer boundary condition (constant)\n",
    "    dtdt[1:-1] = kappa * \\\n",
    "        ((temperature[2:] - 2.0 * temperature[1:-1] + temperature[0:-2]) / (delta_r * delta_r) \\\n",
    "         + a_factor / r[1:-1] * (temperature[2:] - temperature[0:-2]) / (2 * delta_r))\n",
    "    dtdt[0] = dtdt[1]  # inner boundary condition temperature[0] = temperature[1]\n",
    "    return dtdt\n",
    "\n",
    "def plot_snap(temperature, i):\n",
    "    # save a snapshot at i-th step\n",
    "    dict_beef = {'red':   ((0.0, 1.0, 1.0), (0.5, 1.0, 1.0), (0.8, 0.6, 0.6), (1.0, 0.6, 0.6)),\n",
    "                 'green': ((0.0, 0.2, 0.2), (0.5, 0.2, 0.2), (0.8, 0.5, 0.5), (1.0, 0.5, 0.5)),\n",
    "                 'blue':  ((0.0, 0.3, 0.3), (0.5, 0.3, 0.3), (0.8, 0.4, 0.4), (1.0, 0.4, 0.4)) }\n",
    "    cm_beef = LinearSegmentedColormap('beef', dict_beef)\n",
    "\n",
    "    xdim = 10  # horizontal dimension for visualization\n",
    "    data = np.zeros((nr*2,xdim))\n",
    "    for k in range(xdim):  # plot both sides mirrored\n",
    "        data[0:nr,   k] = temperature[::-1]\n",
    "        data[nr:2*nr,k] = temperature\n",
    "    fig, ax = plt.subplots(1)\n",
    "    plt.imshow(data, cmap=cm_beef, interpolation=\"bilinear\", aspect=0.1)\n",
    "    plt.clim(0, 100.0)\n",
    "    plt.tick_params(axis=\"x\", which=\"both\", bottom=\"off\", top=\"off\", labelbottom=\"off\")\n",
    "    plt.tick_params(axis=\"y\", which=\"both\", left=\"off\", right=\"off\", labelleft=\"off\")\n",
    "    plt.colorbar(orientation=\"horizontal\")\n",
    "\n",
    "    levels = np.arange(0, 100, 10)\n",
    "    extent = (-0.5, xdim-0.5, 0, nr*2-1)\n",
    "    map2 = ax.contour(data, levels, colors=\"w\", extent=extent)\n",
    "    ax.clabel(map2, fmt=\"%02d\", colors=\"w\")\n",
    "\n",
    "    plt.title(\"[%d cm, init %i deg, boundary %i deg] t = %isec\" %\n",
    "              (rmax*2*100, temp_init, temp_boundary, i*delta_t))\n",
    "    plt.savefig(\"./img/%06i.png\" % i)\n",
    "    plt.close()\n",
    "\n",
    "main()"
   ]
  },
  {
   "cell_type": "code",
   "execution_count": null,
   "metadata": {},
   "outputs": [],
   "source": []
  }
 ],
 "metadata": {
  "kernelspec": {
   "display_name": "Python 3",
   "language": "python",
   "name": "python3"
  },
  "language_info": {
   "codemirror_mode": {
    "name": "ipython",
    "version": 3
   },
   "file_extension": ".py",
   "mimetype": "text/x-python",
   "name": "python",
   "nbconvert_exporter": "python",
   "pygments_lexer": "ipython3",
   "version": "3.6.5"
  }
 },
 "nbformat": 4,
 "nbformat_minor": 2
}
