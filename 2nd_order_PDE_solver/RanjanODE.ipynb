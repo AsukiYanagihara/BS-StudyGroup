{
 "cells": [
  {
   "cell_type": "code",
   "execution_count": null,
   "metadata": {},
   "outputs": [],
   "source": [
    "\"\"\"\n",
    "dy^2/dx^2 + dy/dx + y = cos(2x)\n",
    "y(0)= 0 , y'(0) = 0 \n",
    "z = dy/dx \\n\n",
    "z' + 2z + 2y = cos(2x), z(0)=y(0)=0 \n",
    "U=[y z]\n",
    "\"\"\""
   ]
  },
  {
   "cell_type": "code",
   "execution_count": 2,
   "metadata": {},
   "outputs": [],
   "source": [
    "#Ranjanさん写経\n",
    "import numpy as np\n",
    "import matplotlib.pyplot as plt\n",
    "from scipy.integrate import odeint"
   ]
  },
  {
   "cell_type": "code",
   "execution_count": 8,
   "metadata": {},
   "outputs": [],
   "source": [
    "def dU_dx(U, x):\n",
    "    return [U[1], -2*U[1] - 2*U[0] + np.cos(2*x)]\n",
    "\n",
    "U0 = [0, 0]\n",
    "xs = np.linspace(0, 10, 200)\n",
    "Us = odeint(dU_dx, U0, xs)\n",
    "ys = Us[:, 0]"
   ]
  },
  {
   "cell_type": "code",
   "execution_count": 9,
   "metadata": {},
   "outputs": [
    {
     "data": {
      "image/png": "[encoded data removed]",
      "text/plain": [
       "<Figure size 432x288 with 1 Axes>"
      ]
     },
     "metadata": {},
     "output_type": "display_data"
    }
   ],
   "source": [
    "plt.xlabel(\"x\")\n",
    "plt.ylabel(\"y\")\n",
    "plt.title(\"Damped harmonic oscillator\")\n",
    "plt.plot(xs,ys);"
   ]
  },
  {
   "cell_type": "code",
   "execution_count": 19,
   "metadata": {},
   "outputs": [],
   "source": [
    "def f(x):\n",
    "    return np.exp(-x**2)"
   ]
  },
  {
   "cell_type": "code",
   "execution_count": 21,
   "metadata": {},
   "outputs": [
    {
     "ename": "SyntaxError",
     "evalue": "non-default argument follows default argument (<ipython-input-21-fb5f6eab4c7b>, line 3)",
     "output_type": "error",
     "traceback": [
      "\u001b[1;36m  File \u001b[1;32m\"<ipython-input-21-fb5f6eab4c7b>\"\u001b[1;36m, line \u001b[1;32m3\u001b[0m\n\u001b[1;33m    def equations(f, t=0, N, L):\u001b[0m\n\u001b[1;37m                 ^\u001b[0m\n\u001b[1;31mSyntaxError\u001b[0m\u001b[1;31m:\u001b[0m non-default argument follows default argument\n"
     ]
    }
   ],
   "source": [
    "from scipy.integrate import odeint\n",
    "\n",
    "def equation(f, t=0, N, L):\n",
    "    dx = L / N\n",
    "    arr = np.gradient(np.gradient(f, dx), dx)\n",
    "\n",
    "    return arr"
   ]
  },
  {
   "cell_type": "code",
   "execution_count": 17,
   "metadata": {},
   "outputs": [
    {
     "ename": "NameError",
     "evalue": "name 'equation' is not defined",
     "output_type": "error",
     "traceback": [
      "\u001b[1;31m---------------------------------------------------------------------------\u001b[0m",
      "\u001b[1;31mNameError\u001b[0m                                 Traceback (most recent call last)",
      "\u001b[1;32m<ipython-input-17-f19224822a71>\u001b[0m in \u001b[0;36m<module>\u001b[1;34m()\u001b[0m\n\u001b[0;32m     12\u001b[0m \u001b[0mt\u001b[0m \u001b[1;33m=\u001b[0m \u001b[0mnp\u001b[0m\u001b[1;33m.\u001b[0m\u001b[0mlinspace\u001b[0m\u001b[1;33m(\u001b[0m\u001b[1;36m0\u001b[0m\u001b[1;33m,\u001b[0m \u001b[0mt_max\u001b[0m\u001b[1;33m,\u001b[0m \u001b[0mt_div\u001b[0m\u001b[1;33m)\u001b[0m\u001b[1;33m\u001b[0m\u001b[0m\n\u001b[0;32m     13\u001b[0m \u001b[1;33m\u001b[0m\u001b[0m\n\u001b[1;32m---> 14\u001b[1;33m \u001b[0mtrajectories\u001b[0m \u001b[1;33m=\u001b[0m \u001b[0modeint\u001b[0m\u001b[1;33m(\u001b[0m\u001b[0mequation\u001b[0m\u001b[1;33m,\u001b[0m \u001b[0mfk_0\u001b[0m\u001b[1;33m,\u001b[0m \u001b[0mt\u001b[0m\u001b[1;33m,\u001b[0m \u001b[0margs\u001b[0m\u001b[1;33m=\u001b[0m\u001b[1;33m(\u001b[0m\u001b[0mN\u001b[0m\u001b[1;33m,\u001b[0m \u001b[0mL\u001b[0m\u001b[1;33m)\u001b[0m\u001b[1;33m)\u001b[0m\u001b[1;33m\u001b[0m\u001b[0m\n\u001b[0m",
      "\u001b[1;31mNameError\u001b[0m: name 'equation' is not defined"
     ]
    }
   ],
   "source": [
    "# initial parameter(optional)\n",
    "N, L = 200, 40\n",
    "\n",
    "# coordinate\n",
    "q = np.linspace(-L/2, L/2, N)\n",
    "\n",
    "# initial value for each fk\n",
    "fk_0 = f(q)\n",
    "\n",
    "# time\n",
    "t_max, t_div = 10, 5\n",
    "t = np.linspace(0, t_max, t_div)\n",
    "\n",
    "trajectories = odeint(equation, fk_0, t, args=(N, L))"
   ]
  },
  {
   "cell_type": "markdown",
   "metadata": {},
   "source": [
    "固体内拡散に関するPDE/Govenig equation\n",
    "\\begin{equation*}\n",
    "  \\frac{\\partial C_s(r, t)}{\\partial t} = \\frac{D_s}{r^2}\\frac{\\partial}{\\partial r}\\left(r^2\\frac{\\partial C_s(r, t)}{\\partial r}\\right)\n",
    "\\end{equation*}"
   ]
  },
  {
   "cell_type": "markdown",
   "metadata": {},
   "source": [
    "1階微分を関数zに置き換える\n",
    "\\begin{equation*}\n",
    "  z_r = \\frac{\\partial C_s(r, t)}{\\partial r} \\\\\n",
    "  z_t = \\frac{\\partial C_s(r, t)}{\\partial t}\n",
    "\\end{equation*}"
   ]
  },
  {
   "cell_type": "markdown",
   "metadata": {},
   "source": [
    "元の式は下記のように変換できる\n",
    "\\begin{equation*}\n",
    "z_t = \\frac{D_s}{r^2}\\frac {\\partial}{\\partial r}\\left(r^2 z_r\\right)\n",
    "\\end{equation*}"
   ]
  },
  {
   "cell_type": "code",
   "execution_count": 13,
   "metadata": {},
   "outputs": [],
   "source": [
    "# r, tのグリッドを作成\n",
    "r = np.linspace(0,10,200)\n",
    "t = np.linspace(0,10,200)"
   ]
  }
 ],
 "metadata": {
  "kernelspec": {
   "display_name": "Python 3",
   "language": "python",
   "name": "python3"
  },
  "language_info": {
   "codemirror_mode": {
    "name": "ipython",
    "version": 3
   },
   "file_extension": ".py",
   "mimetype": "text/x-python",
   "name": "python",
   "nbconvert_exporter": "python",
   "pygments_lexer": "ipython3",
   "version": "3.6.5"
  }
 },
 "nbformat": 4,
 "nbformat_minor": 2
}
