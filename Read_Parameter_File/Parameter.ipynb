{
 "cells": [
  {
   "cell_type": "code",
   "execution_count": null,
   "metadata": {},
   "outputs": [],
   "source": [
    "# -*-coding:utf-8 -*-"
   ]
  },
  {
   "cell_type": "code",
   "execution_count": null,
   "metadata": {},
   "outputs": [],
   "source": [
    "\"\"\"\n",
    "BSSG Lithim ion battery one_dimetial modeling \n",
    "parameter file を読み込んで変数に渡す。ゴリゴリ渡す\n",
    "\"\"\""
   ]
  },
  {
   "cell_type": "code",
   "execution_count": 3,
   "metadata": {},
   "outputs": [
    {
     "name": "stdout",
     "output_type": "stream",
     "text": [
      "C:/Users/ayana/OneDrive/Documents/BSSG2018/Implementation/Read_Parameter_File/Parameter_file.xlsx\n"
     ]
    }
   ],
   "source": [
    "#parameter fileのパスを取得\n",
    "#Get the path of the parameter file\n",
    "#https://teratail.com/questions/145112\n",
    "import tkinter\n",
    "import tkinter.filedialog as tkFileDialog\n",
    "import os\n",
    "\n",
    "root = tkinter.Tk()\n",
    "# topmost指定(最前面)\n",
    "root.attributes('-topmost', True)\n",
    "root.withdraw()\n",
    "root.lift()\n",
    "root.focus_force()\n",
    "\n",
    "#iDir = r'C:/' #任意の場所から選択させたい場合↓を　initialdir=iDir にする\n",
    "# parentを指定\n",
    "filename = tkFileDialog.askopenfilename(parent=root, initialdir=os.getcwd()) #initialdir=os.getcwd()カレントからファイル選択　\n",
    "\n",
    "print(filename)"
   ]
  },
  {
   "cell_type": "code",
   "execution_count": 4,
   "metadata": {},
   "outputs": [],
   "source": [
    "# xlsxdataを読み込み\n",
    "import openpyxl\n",
    "import pprint #いる？\n",
    "\n",
    "parameter_file = openpyxl.load_workbook(filename)"
   ]
  },
  {
   "cell_type": "code",
   "execution_count": 6,
   "metadata": {},
   "outputs": [],
   "source": [
    "parameter_sheets = parameter_file.active"
   ]
  },
  {
   "cell_type": "code",
   "execution_count": 7,
   "metadata": {},
   "outputs": [],
   "source": [
    "#Design specifications_cathode\n",
    "L_ca = parameter_sheets['D3'].value\n",
    "R_s_ca = parameter_sheets['D4'].value\n",
    "varepsilon_s_ca = parameter_sheets['D5'].value\n",
    "varepsilon_e_ca = parameter_sheets['D6'].value\n",
    "varepsilon_p_ca = parameter_sheets['D7'].value\n",
    "varepsilon_f_ca = parameter_sheets['D8'].value\n",
    "\n",
    "#Design specifications_separator\n",
    "L_sep = parameter_sheets['C3'].value\n",
    "R_s_sep = parameter_sheets['C4'].value\n",
    "varepsilon_s_sep = parameter_sheets['C5'].value\n",
    "varepsilon_e_sep = parameter_sheets['C6'].value\n",
    "varepsilon_p_sep = parameter_sheets['C7'].value\n",
    "varepsilon_f_sep = parameter_sheets['C8'].value\n",
    "\n",
    "#Design specifications_anode\n",
    "L_an = parameter_sheets['B3'].value\n",
    "R_s_an = parameter_sheets['B4'].value\n",
    "varepsilon_s_an = parameter_sheets['B5'].value\n",
    "varepsilon_e_an = parameter_sheets['B6'].value\n",
    "varepsilon_p_an = parameter_sheets['B7'].value\n",
    "varepsilon_f_an = parameter_sheets['B8'].value"
   ]
  },
  {
   "cell_type": "code",
   "execution_count": 8,
   "metadata": {},
   "outputs": [],
   "source": [
    "#Li-ion concentrations_cathode\n",
    "c_s_max_ca = parameter_sheets['D10'].value\n",
    "C_s_ca = parameter_sheets['D11'].value\n",
    "stoichiometry_100perSOC_ca = parameter_sheets['D12'].value\n",
    "stoichiometry_0perSOC_ca = parameter_sheets['D13'].value\n",
    "\n",
    "#Li-ion concentrations_separator\n",
    " #c_s_max_sep = parameter_sheets['C10'].value\n",
    "C_s_sep = parameter_sheets['C11'].value\n",
    " #stoichiometry_100perSOC_sep = paremeter_sheets['C12'].value\n",
    " #stoichiometry_0perSOC_sep = paremeter_sheets['C13'].value\n",
    "\n",
    "#Li-ion concentrations_cathode\n",
    "c_s_max_an = parameter_sheets['B10'].value\n",
    "C_s_an = parameter_sheets['B11'].value\n",
    "stoichiometry_100perSOC_an = parameter_sheets['B12'].value\n",
    "stoichiometry_0perSOC_an = parameter_sheets['B13'].value"
   ]
  },
  {
   "cell_type": "code",
   "execution_count": 9,
   "metadata": {},
   "outputs": [],
   "source": [
    "#Kinetic and Transport properties _cathode\n",
    "k0_ca = parameter_sheets['D15'].value\n",
    "alpha_ca = parameter_sheets['D16'].value\n",
    "Ds_ca = parameter_sheets['D17'].value\n",
    "De_ca = parameter_sheets['D18'].value\n",
    "kappa_eff_ca = parameter_sheets['D19'].value\n",
    "\n",
    "#Kinetic and Transport properties_separator\n",
    "De_sep = parameter_sheets['C18'].value\n",
    "kappa_eff_sep = parameter_sheets['C19'].value\n",
    "\n",
    "#Kinetic and Transport properties_anode\n",
    "k0_an = parameter_sheets['B15'].value\n",
    "alpha_an = parameter_sheets['B16'].value\n",
    "Ds_an = parameter_sheets['B17'].value\n",
    "De_an = parameter_sheets['B18'].value\n",
    "kappa_eff_an = parameter_sheets['B19'].value\n"
   ]
  },
  {
   "cell_type": "code",
   "execution_count": 10,
   "metadata": {},
   "outputs": [],
   "source": [
    "#Constants\n",
    "t_plus = parameter_sheets['B21'].value\n",
    "R = parameter_sheets['B22'].value\n",
    "F = parameter_sheets['B23'].value\n",
    "A = parameter_sheets['B24'].value\n",
    "R_SEI = parameter_sheets['B25'].value\n",
    "f = parameter_sheets['B26'].value\n",
    "T = parameter_sheets['B27'].value\n",
    "R_f = parameter_sheets['B28'].value"
   ]
  },
  {
   "cell_type": "code",
   "execution_count": null,
   "metadata": {},
   "outputs": [],
   "source": []
  }
 ],
 "metadata": {
  "kernelspec": {
   "display_name": "Python 3",
   "language": "python",
   "name": "python3"
  },
  "language_info": {
   "codemirror_mode": {
    "name": "ipython",
    "version": 3
   },
   "file_extension": ".py",
   "mimetype": "text/x-python",
   "name": "python",
   "nbconvert_exporter": "python",
   "pygments_lexer": "ipython3",
   "version": "3.6.5"
  }
 },
 "nbformat": 4,
 "nbformat_minor": 2
}
