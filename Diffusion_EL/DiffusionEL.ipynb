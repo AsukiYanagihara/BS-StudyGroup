{
 "cells": [
  {
   "cell_type": "code",
   "execution_count": 3,
   "metadata": {},
   "outputs": [],
   "source": [
    "# conding: utf-8"
   ]
  },
  {
   "cell_type": "markdown",
   "metadata": {},
   "source": [
    "\"\"\"\n",
    "電解液の拡散をグラフ化する。\n",
    "𝐶(𝑥, 𝑡)=(〖𝑖𝑡〗_((−)) 𝑙)/𝐹𝐷 {1/2−𝑥/𝑙−2/𝜋^2 ∑_(𝑛=1)^∞▒(〖(−1)〗^𝑛 exp((𝑛^2 𝜋^2 𝐷𝑡)/𝑙^2 ){cos⁡𝑛𝜋 (1−𝑥/𝑙)−cos⁡𝑛𝜋 (𝑥/𝑙)})/𝑛^2 }+𝐶_0\n",
    "[*] Tetsuichi Kudo(Nagasaki Univ.)リチウムイオン電池の科学―ホスト・ゲスト系電極の物理化学からナノテク材料まで (材料学シリーズ) \n",
    "\"\"\""
   ]
  },
  {
   "cell_type": "code",
   "execution_count": 4,
   "metadata": {},
   "outputs": [],
   "source": [
    "# モジュールのインポート\n",
    "import numpy as np\n",
    "import matplotlib.pyplot as plt "
   ]
  },
  {
   "cell_type": "code",
   "execution_count": 24,
   "metadata": {},
   "outputs": [
    {
     "name": "stdout",
     "output_type": "stream",
     "text": [
      "[0.1, 0.5, 1, 5, 10, 20, 30, 45]\n"
     ]
    },
    {
     "data": {
      "text/plain": [
       "111.6"
      ]
     },
     "execution_count": 24,
     "metadata": {},
     "output_type": "execute_result"
    }
   ],
   "source": [
    "# Parameter\n",
    "i = 42.6 # 電流密度[mAcm^-2]\n",
    "tm = 0.69 # X-の輸率[-]\n",
    "l = 30 # 極間距離[um]\n",
    "D = 1.52e-6 # 拡散係数(電解液中のLi+)[cm^2s^-1]\n",
    "C0 = 1.0 # イオン濃度 [molL^-1]\n",
    "F = 96485.3329 # ファラデー定数 [C/mol]\n",
    "x = np.arange(0, l, 0.1)\n",
    "t1 = 0.1\n",
    "t2 = 0.5\n",
    "t3 = 1\n",
    "t4 = 5\n",
    "t5 = 10\n",
    "t6 = 20\n",
    "t7 = 30\n",
    "t8 = 45\n",
    "t = [0.1, 0.5, 1, 5, 10, 20, 30, 45]\n",
    "print(t)\n",
    "sum(t)"
   ]
  },
  {
   "cell_type": "code",
   "execution_count": 63,
   "metadata": {},
   "outputs": [],
   "source": [
    "# シグマの中身\n",
    "# def sigma() : \n",
    "#    s = ((-1)**1*np.exp(1**2*np.pi**2*D*t1/l**2)*(np.cos(1*np.pi*(1-x/l))-np.cos(1*np.pi*(x/l))))/1**2\n",
    "#    for n in range(10):\n",
    "#        s = s + ((-1)**n*np.exp(n**2*np.pi**2*D*t1/l**2)*(np.cos(n*np.pi*(1-x/l))-np.cos(n*np.pi*(x/l))))/n**2"
   ]
  },
  {
   "cell_type": "code",
   "execution_count": 68,
   "metadata": {},
   "outputs": [
    {
     "name": "stderr",
     "output_type": "stream",
     "text": [
      "C:\\Users\\ayana\\Anaconda3\\lib\\site-packages\\ipykernel_launcher.py:5: RuntimeWarning: invalid value encountered in true_divide\n",
      "  \"\"\"\n"
     ]
    },
    {
     "ename": "TypeError",
     "evalue": "unsupported operand type(s) for *: 'float' and 'NoneType'",
     "output_type": "error",
     "traceback": [
      "\u001b[1;31m---------------------------------------------------------------------------\u001b[0m",
      "\u001b[1;31mTypeError\u001b[0m                                 Traceback (most recent call last)",
      "\u001b[1;32m<ipython-input-68-14329d4badb2>\u001b[0m in \u001b[0;36m<module>\u001b[1;34m()\u001b[0m\n\u001b[0;32m      1\u001b[0m \u001b[1;31m#　関数\u001b[0m\u001b[1;33m\u001b[0m\u001b[1;33m\u001b[0m\u001b[0m\n\u001b[1;32m----> 2\u001b[1;33m \u001b[0mCxt\u001b[0m \u001b[1;33m=\u001b[0m \u001b[0mi\u001b[0m\u001b[1;33m*\u001b[0m\u001b[0mtm\u001b[0m\u001b[1;33m*\u001b[0m\u001b[0ml\u001b[0m\u001b[1;33m/\u001b[0m\u001b[1;33m(\u001b[0m\u001b[0mF\u001b[0m\u001b[1;33m*\u001b[0m\u001b[0mD\u001b[0m\u001b[1;33m)\u001b[0m\u001b[1;33m*\u001b[0m\u001b[1;33m(\u001b[0m\u001b[1;36m1\u001b[0m\u001b[1;33m/\u001b[0m\u001b[1;36m2\u001b[0m\u001b[1;33m-\u001b[0m\u001b[0mx\u001b[0m\u001b[1;33m/\u001b[0m\u001b[0ml\u001b[0m\u001b[1;33m-\u001b[0m\u001b[1;33m(\u001b[0m\u001b[1;36m2\u001b[0m\u001b[1;33m/\u001b[0m\u001b[1;33m(\u001b[0m\u001b[0mnp\u001b[0m\u001b[1;33m.\u001b[0m\u001b[0mpi\u001b[0m\u001b[1;33m)\u001b[0m\u001b[1;33m**\u001b[0m\u001b[1;36m2\u001b[0m\u001b[1;33m)\u001b[0m\u001b[1;33m*\u001b[0m\u001b[0msigma\u001b[0m\u001b[1;33m(\u001b[0m\u001b[1;33m)\u001b[0m\u001b[1;33m)\u001b[0m\u001b[1;33m+\u001b[0m\u001b[0mC0\u001b[0m\u001b[1;33m\u001b[0m\u001b[0m\n\u001b[0m",
      "\u001b[1;31mTypeError\u001b[0m: unsupported operand type(s) for *: 'float' and 'NoneType'"
     ]
    }
   ],
   "source": [
    "#　関数\n",
    "# Cxt = i*tm*l/(F*D)*(1/2-x/l-(2/(np.pi)**2)*sigma())+C0"
   ]
  },
  {
   "cell_type": "code",
   "execution_count": 25,
   "metadata": {},
   "outputs": [],
   "source": [
    "# 総和の一般コード\n",
    "def sigma(m, n, func, s = 0) :\n",
    "    if m > n: return s\n",
    "    return sigma(m + 1, n, func, s + func(m))"
   ]
  },
  {
   "cell_type": "code",
   "execution_count": 33,
   "metadata": {},
   "outputs": [],
   "source": [
    "#総和の計算\n",
    "sig = sigma(1, 100, lambda xn : ((-1)**xn*np.exp(xn**2*np.pi**2*D*t1/l**2)*(np.cos(xn*np.pi*(1-x/l))-np.cos(xn*np.pi*(x/l))))/xn**2)\n",
    "Cxt = i*tm*l/(F*D)*(1/2-x/l-(2/(np.pi)**2)*sig)+C0\n",
    "# t1にリスト(t)を渡せない。。。"
   ]
  },
  {
   "cell_type": "code",
   "execution_count": 34,
   "metadata": {},
   "outputs": [
    {
     "name": "stdout",
     "output_type": "stream",
     "text": [
      "type(fig): <class 'matplotlib.figure.Figure'>\n",
      "type(fig): <class 'matplotlib.axes._subplots.AxesSubplot'>\n"
     ]
    },
    {
     "data": {
      "text/plain": [
       "Text(0,0.5,'Cxt')"
      ]
     },
     "execution_count": 34,
     "metadata": {},
     "output_type": "execute_result"
    },
    {
     "data": {
      "image/png": "[encoded data removed]",
      "text/plain": [
       "<Figure size 432x288 with 1 Axes>"
      ]
     },
     "metadata": {},
     "output_type": "display_data"
    }
   ],
   "source": [
    "# グラフ(Objective)\n",
    "#1 Figureのインスタンス作成\n",
    "fig = plt.figure()\n",
    "print(\"type(fig): {}\".format(type(fig))) #わからん\n",
    "\n",
    "#2 Axesのインスタンス作成\n",
    "ax1 = fig.add_subplot(111)\n",
    "print(\"type(fig): {}\".format(type(ax1)))\n",
    "\n",
    "#3 データを渡してプロット\n",
    "ax1.plot(x, Cxt)\n",
    "\n",
    "#4 y軸範囲の調整とグラフタイトル・ラベル付け\n",
    "#ax1.set_ylim(-1.3, 1.3)\n",
    "\n",
    "#ax1.set_title(\"sin x\")\n",
    "\n",
    "ax1.set_xlabel(\"x\")\n",
    "\n",
    "ax1.set_ylabel(\"Cxt\")\n"
   ]
  },
  {
   "cell_type": "code",
   "execution_count": 28,
   "metadata": {},
   "outputs": [],
   "source": [
    "#総和の計算 ごりおし\n",
    "sig1 = sigma(1, 1000, lambda xn : ((-1)**xn*np.exp(xn**2*np.pi**2*D*t1/l**2)*(np.cos(xn*np.pi*(1-x/l))-np.cos(xn*np.pi*(x/l))))/xn**2)\n",
    "Cxt1 = i*tm*l/(F*D)*(1/2-x/l-(2/(np.pi)**2)*sig1)+C0\n",
    "sig2 = sigma(1, 1000, lambda xn : ((-1)**xn*np.exp(xn**2*np.pi**2*D*t2/l**2)*(np.cos(xn*np.pi*(1-x/l))-np.cos(xn*np.pi*(x/l))))/xn**2)\n",
    "Cxt2 = i*tm*l/(F*D)*(1/2-x/l-(2/(np.pi)**2)*sig2)+C0\n",
    "sig3 = sigma(1, 1000, lambda xn : ((-1)**xn*np.exp(xn**2*np.pi**2*D*t3/l**2)*(np.cos(xn*np.pi*(1-x/l))-np.cos(xn*np.pi*(x/l))))/xn**2)\n",
    "Cxt3 = i*tm*l/(F*D)*(1/2-x/l-(2/(np.pi)**2)*sig3)+C0\n",
    "sig4 = sigma(1, 1000, lambda xn : ((-1)**xn*np.exp(xn**2*np.pi**2*D*t4/l**2)*(np.cos(xn*np.pi*(1-x/l))-np.cos(xn*np.pi*(x/l))))/xn**2)\n",
    "Cxt4 = i*tm*l/(F*D)*(1/2-x/l-(2/(np.pi)**2)*sig4)+C0\n",
    "sig5 = sigma(1, 1000, lambda xn : ((-1)**xn*np.exp(xn**2*np.pi**2*D*t5/l**2)*(np.cos(xn*np.pi*(1-x/l))-np.cos(xn*np.pi*(x/l))))/xn**2)\n",
    "Cxt5 = i*tm*l/(F*D)*(1/2-x/l-(2/(np.pi)**2)*sig5)+C0"
   ]
  },
  {
   "cell_type": "code",
   "execution_count": 32,
   "metadata": {},
   "outputs": [
    {
     "name": "stdout",
     "output_type": "stream",
     "text": [
      "type(fig): <class 'matplotlib.figure.Figure'>\n",
      "type(fig): <class 'matplotlib.axes._subplots.AxesSubplot'>\n"
     ]
    },
    {
     "name": "stderr",
     "output_type": "stream",
     "text": [
      "C:\\Users\\ayana\\Anaconda3\\lib\\site-packages\\matplotlib\\cbook\\deprecation.py:107: MatplotlibDeprecationWarning: Adding an axes using the same arguments as a previous axes currently reuses the earlier instance.  In a future version, a new instance will always be created and returned.  Meanwhile, this warning can be suppressed, and the future behavior ensured, by passing a unique label to each axes instance.\n",
      "  warnings.warn(message, mplDeprecation, stacklevel=1)\n"
     ]
    },
    {
     "data": {
      "text/plain": [
       "Text(0,0.5,'Cxt')"
      ]
     },
     "execution_count": 32,
     "metadata": {},
     "output_type": "execute_result"
    },
    {
     "data": {
      "image/png": "[encoded data removed]",
      "text/plain": [
       "<Figure size 432x288 with 1 Axes>"
      ]
     },
     "metadata": {},
     "output_type": "display_data"
    }
   ],
   "source": [
    "# グラフ(Objective) ごり押し\n",
    "#1 Figureのインスタンス作成\n",
    "fig = plt.figure()\n",
    "print(\"type(fig): {}\".format(type(fig))) #わからん\n",
    "\n",
    "#2 Axesのインスタンス作成\n",
    "ax1 = fig.add_subplot(111)\n",
    "ax2 = fig.add_subplot(111)\n",
    "ax3 = fig.add_subplot(111)\n",
    "ax4 = fig.add_subplot(111)\n",
    "ax5 = fig.add_subplot(111)\n",
    "print(\"type(fig): {}\".format(type(ax1)))\n",
    "\n",
    "#3 データを渡してプロット\n",
    "ax1.plot(x, Cxt1)\n",
    "ax2.plot(x, Cxt2)\n",
    "ax3.plot(x, Cxt3)\n",
    "ax4.plot(x, Cxt4)\n",
    "ax5.plot(x, Cxt5)\n",
    "\n",
    "#4 y軸範囲の調整とグラフタイトル・ラベル付け\n",
    "#ax1.set_ylim(0.9, 1.1)\n",
    "\n",
    "#ax1.set_title(\"sin x\")\n",
    "\n",
    "ax1.set_xlabel(\"x\")\n",
    "\n",
    "ax1.set_ylabel(\"Cxt\")\n"
   ]
  },
  {
   "cell_type": "code",
   "execution_count": 48,
   "metadata": {},
   "outputs": [],
   "source": [
    "# n=1のとき\n",
    "s = ((-1)**1*np.exp(1**2*np.pi**2*D*t1/l**2)*(np.cos(1*np.pi*(1-x/l))-np.cos(1*np.pi*(x/l))))/1**2\n",
    "Cxt = i*tm*l/(F*D)*(1/2-x/l-(2/(np.pi)**2)*s)+C0"
   ]
  },
  {
   "cell_type": "code",
   "execution_count": 49,
   "metadata": {},
   "outputs": [
    {
     "name": "stdout",
     "output_type": "stream",
     "text": [
      "type(fig): <class 'matplotlib.figure.Figure'>\n",
      "type(fig): <class 'matplotlib.axes._subplots.AxesSubplot'>\n"
     ]
    },
    {
     "data": {
      "text/plain": [
       "Text(0,0.5,'Cxt')"
      ]
     },
     "execution_count": 49,
     "metadata": {},
     "output_type": "execute_result"
    },
    {
     "data": {
      "image/png": "[encoded data removed]",
      "text/plain": [
       "<Figure size 432x288 with 1 Axes>"
      ]
     },
     "metadata": {},
     "output_type": "display_data"
    }
   ],
   "source": [
    "# グラフ(Objective)\n",
    "#1 Figureのインスタンス作成\n",
    "fig = plt.figure()\n",
    "print(\"type(fig): {}\".format(type(fig))) #わからん\n",
    "\n",
    "#2 Axesのインスタンス作成\n",
    "ax1 = fig.add_subplot(111)\n",
    "\n",
    "print(\"type(fig): {}\".format(type(ax1)))\n",
    "\n",
    "#3 データを渡してプロット\n",
    "ax1.plot(x, Cxt)\n",
    "\n",
    "#4 y軸範囲の調整とグラフタイトル・ラベル付け\n",
    "#ax1.set_ylim(-1.3, 1.3)\n",
    "\n",
    "#ax1.set_title(\"sin x\")\n",
    "\n",
    "ax1.set_xlabel(\"x\")\n",
    "\n",
    "ax1.set_ylabel(\"Cxt\")\n"
   ]
  },
  {
   "cell_type": "code",
   "execution_count": null,
   "metadata": {},
   "outputs": [],
   "source": []
  }
 ],
 "metadata": {
  "kernelspec": {
   "display_name": "Python 3",
   "language": "python",
   "name": "python3"
  },
  "language_info": {
   "codemirror_mode": {
    "name": "ipython",
    "version": 3
   },
   "file_extension": ".py",
   "mimetype": "text/x-python",
   "name": "python",
   "nbconvert_exporter": "python",
   "pygments_lexer": "ipython3",
   "version": "3.6.5"
  }
 },
 "nbformat": 4,
 "nbformat_minor": 2
}
